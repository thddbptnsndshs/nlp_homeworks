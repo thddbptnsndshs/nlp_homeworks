{
 "cells": [
  {
   "cell_type": "markdown",
   "metadata": {
    "colab_type": "text",
    "id": "r_CzjN-StydR"
   },
   "source": [
    "## Задание\n",
    "В рамках этого задания мы будем создавать программу, которая получая на вход отзыв, будет предсказывать, является отзыв положительным или отрицательным. Делать мы будем это таким образом: мы возьмём некоторое число заранее размеченных как положительные или отрицательные отзывов, выделим те слова, которые встречаются только в положительных или только в отрицательных отзывах, и будем считать, каких слов  в поступившем нам на проверку отзыве больше.\n",
    "\n",
    "\n",
    "Мы будем работать по заранее определённому пайплайну:\n",
    "\n",
    "1.  Сначала нам надо скачать дату -- соберите как минимум 60 (30 положительных  и 30 отрицательных) отзывов на похожие продукты (не надо мешать отзывы на отели с отзывами на ноутбуки) для составления \"тонального словаря\" (чем больше отзывов, тем лучше)  и 10 отзывов для проверки качества.   (2 балла в случае сбора путём парсинга, 1 - если найдете уже готовые данные или просто закопипастите без парсинга)"
   ]
  },
  {
   "cell_type": "markdown",
   "metadata": {},
   "source": [
    "# Решение\n",
    "\n",
    "Данные собраны с сайта [metacritic.com](https://www.metacritic.com/person/weezer), это отзывы на альбомы Weezer\n",
    "\n",
    "штош пишем краулер"
   ]
  },
  {
   "cell_type": "code",
   "execution_count": 3,
   "metadata": {},
   "outputs": [],
   "source": [
    "import requests\n",
    "from fake_useragent import UserAgent\n",
    "from bs4 import BeautifulSoup\n",
    "\n",
    "import time\n",
    "import random\n",
    "\n",
    "session = requests.session()\n",
    "known_proxy_ip = '109.173.86.43:8000'\n",
    "proxy = {'http': known_proxy_ip, 'https': known_proxy_ip}\n",
    "\n",
    "with open('errors.txt', 'w') as f:\n",
    "    pass\n",
    "\n",
    "# download soup\n",
    "\n",
    "def get_page(url): \n",
    "    \n",
    "    user_agent = UserAgent().chrome\n",
    "    try:\n",
    "        response = session.get(url, headers={'User-Agent':user_agent})\n",
    "    except Exception as err:\n",
    "        with open('errors.txt', 'a') as f:\n",
    "            f.write(f'{err}\\t{url}\\n')\n",
    "    soup = BeautifulSoup(response.text, 'html.parser')\n",
    "    time.sleep(random.random())\n",
    "    \n",
    "    return soup"
   ]
  },
  {
   "cell_type": "code",
   "execution_count": 2,
   "metadata": {},
   "outputs": [],
   "source": [
    "# save reviews from a page to a dict\n",
    "\n",
    "def get_reviews(url): \n",
    "    page = get_page(url)\n",
    "    reviews = page.findAll('div', {'class': 'review_content'})\n",
    "    review_dics = []\n",
    "    \n",
    "    for review_soup in reviews:\n",
    "        review_dic = {}\n",
    "        review_dic['text'] = review_soup.findAll('div', {'class': 'review_body'})[0].text.strip()\n",
    "        review_dic['grade'] = review_soup.findAll('div', {'class': 'review_grade'})[0].text.strip()\n",
    "        review_dic['album'] = url.split('/')[-3]\n",
    "        review_dics.append(review_dic)\n",
    "        \n",
    "    return review_dics"
   ]
  },
  {
   "cell_type": "code",
   "execution_count": 3,
   "metadata": {
    "tags": []
   },
   "outputs": [
    {
     "data": {
      "text/plain": [
       "['https://www.metacritic.com/music/sznz-spring-ep/weezer/user-reviews',\n",
       " 'https://www.metacritic.com/music/van-weezer/weezer/user-reviews',\n",
       " 'https://www.metacritic.com/music/ok-human/weezer/user-reviews',\n",
       " 'https://www.metacritic.com/music/weezer-black-album/weezer/user-reviews',\n",
       " 'https://www.metacritic.com/music/weezer-teal-album/weezer/user-reviews',\n",
       " 'https://www.metacritic.com/music/pacific-daydream/weezer/user-reviews',\n",
       " 'https://www.metacritic.com/music/weezer-white-album/weezer/user-reviews',\n",
       " 'https://www.metacritic.com/music/everything-will-be-alright-in-the-end/weezer/user-reviews',\n",
       " 'https://www.metacritic.com/music/death-to-false-metal/weezer/user-reviews',\n",
       " 'https://www.metacritic.com/music/pinkerton-deluxe-edition/weezer/user-reviews',\n",
       " 'https://www.metacritic.com/music/hurley/weezer/user-reviews',\n",
       " 'https://www.metacritic.com/music/raditude/weezer/user-reviews',\n",
       " 'https://www.metacritic.com/music/weezer-red-album/weezer/user-reviews',\n",
       " 'https://www.metacritic.com/music/make-believe/weezer/user-reviews',\n",
       " 'https://www.metacritic.com/music/maladroit/weezer/user-reviews',\n",
       " 'https://www.metacritic.com/music/weezer-2001/weezer/user-reviews']"
      ]
     },
     "execution_count": 3,
     "metadata": {},
     "output_type": "execute_result"
    }
   ],
   "source": [
    "# collect all the links to Weezer album reviews\n",
    "\n",
    "page = get_page('https://www.metacritic.com/person/weezer')\n",
    "links = []\n",
    "\n",
    "for album in page.findAll('td', {'class': 'title brief_metascore'}):\n",
    "    link = album.findAll('a')[0]['href']\n",
    "    links.append(f'https://www.metacritic.com{link}/user-reviews')\n",
    "    \n",
    "links"
   ]
  },
  {
   "cell_type": "code",
   "execution_count": 4,
   "metadata": {},
   "outputs": [
    {
     "data": {
      "text/plain": [
       "851"
      ]
     },
     "execution_count": 4,
     "metadata": {},
     "output_type": "execute_result"
    }
   ],
   "source": [
    "reviews = []\n",
    "\n",
    "# gather reviews\n",
    "for link in links:\n",
    "    reviews.extend(get_reviews(link))\n",
    "    \n",
    "len(reviews)"
   ]
  },
  {
   "cell_type": "code",
   "execution_count": 5,
   "metadata": {},
   "outputs": [
    {
     "data": {
      "text/html": [
       "<div>\n",
       "<style scoped>\n",
       "    .dataframe tbody tr th:only-of-type {\n",
       "        vertical-align: middle;\n",
       "    }\n",
       "\n",
       "    .dataframe tbody tr th {\n",
       "        vertical-align: top;\n",
       "    }\n",
       "\n",
       "    .dataframe thead th {\n",
       "        text-align: right;\n",
       "    }\n",
       "</style>\n",
       "<table border=\"1\" class=\"dataframe\">\n",
       "  <thead>\n",
       "    <tr style=\"text-align: right;\">\n",
       "      <th></th>\n",
       "      <th>text</th>\n",
       "      <th>grade</th>\n",
       "      <th>album</th>\n",
       "      <th>target</th>\n",
       "    </tr>\n",
       "  </thead>\n",
       "  <tbody>\n",
       "    <tr>\n",
       "      <th>0</th>\n",
       "      <td>A continuation with the experimentation that O...</td>\n",
       "      <td>9.0</td>\n",
       "      <td>sznz-spring-ep</td>\n",
       "      <td>1</td>\n",
       "    </tr>\n",
       "    <tr>\n",
       "      <th>1</th>\n",
       "      <td>Undeniably light on substance but still plenty...</td>\n",
       "      <td>8.0</td>\n",
       "      <td>sznz-spring-ep</td>\n",
       "      <td>1</td>\n",
       "    </tr>\n",
       "    <tr>\n",
       "      <th>2</th>\n",
       "      <td>If we’re being honest here, this album isn’t f...</td>\n",
       "      <td>6.0</td>\n",
       "      <td>sznz-spring-ep</td>\n",
       "      <td>1</td>\n",
       "    </tr>\n",
       "    <tr>\n",
       "      <th>3</th>\n",
       "      <td>Really love all the tracks here. Angels On Vac...</td>\n",
       "      <td>10.0</td>\n",
       "      <td>sznz-spring-ep</td>\n",
       "      <td>1</td>\n",
       "    </tr>\n",
       "    <tr>\n",
       "      <th>4</th>\n",
       "      <td>While it does not reach the heights and emotio...</td>\n",
       "      <td>10.0</td>\n",
       "      <td>sznz-spring-ep</td>\n",
       "      <td>1</td>\n",
       "    </tr>\n",
       "    <tr>\n",
       "      <th>...</th>\n",
       "      <td>...</td>\n",
       "      <td>...</td>\n",
       "      <td>...</td>\n",
       "      <td>...</td>\n",
       "    </tr>\n",
       "    <tr>\n",
       "      <th>846</th>\n",
       "      <td>Would I recommend the green album in compariso...</td>\n",
       "      <td>6.0</td>\n",
       "      <td>weezer-2001</td>\n",
       "      <td>1</td>\n",
       "    </tr>\n",
       "    <tr>\n",
       "      <th>847</th>\n",
       "      <td>Ohhh yes good very i think. hmmm no yes it is ...</td>\n",
       "      <td>10.0</td>\n",
       "      <td>weezer-2001</td>\n",
       "      <td>1</td>\n",
       "    </tr>\n",
       "    <tr>\n",
       "      <th>848</th>\n",
       "      <td>The 11 tracks trundle along in a generally ino...</td>\n",
       "      <td>5.0</td>\n",
       "      <td>weezer-2001</td>\n",
       "      <td>1</td>\n",
       "    </tr>\n",
       "    <tr>\n",
       "      <th>849</th>\n",
       "      <td>Feels a bit repetitive and perfunctory the fir...</td>\n",
       "      <td>7.0</td>\n",
       "      <td>weezer-2001</td>\n",
       "      <td>1</td>\n",
       "    </tr>\n",
       "    <tr>\n",
       "      <th>850</th>\n",
       "      <td>Weezer have faced their challenge with confide...</td>\n",
       "      <td>8.0</td>\n",
       "      <td>weezer-2001</td>\n",
       "      <td>1</td>\n",
       "    </tr>\n",
       "  </tbody>\n",
       "</table>\n",
       "<p>851 rows × 4 columns</p>\n",
       "</div>"
      ],
      "text/plain": [
       "                                                  text  grade           album  \\\n",
       "0    A continuation with the experimentation that O...    9.0  sznz-spring-ep   \n",
       "1    Undeniably light on substance but still plenty...    8.0  sznz-spring-ep   \n",
       "2    If we’re being honest here, this album isn’t f...    6.0  sznz-spring-ep   \n",
       "3    Really love all the tracks here. Angels On Vac...   10.0  sznz-spring-ep   \n",
       "4    While it does not reach the heights and emotio...   10.0  sznz-spring-ep   \n",
       "..                                                 ...    ...             ...   \n",
       "846  Would I recommend the green album in compariso...    6.0     weezer-2001   \n",
       "847  Ohhh yes good very i think. hmmm no yes it is ...   10.0     weezer-2001   \n",
       "848  The 11 tracks trundle along in a generally ino...    5.0     weezer-2001   \n",
       "849  Feels a bit repetitive and perfunctory the fir...    7.0     weezer-2001   \n",
       "850  Weezer have faced their challenge with confide...    8.0     weezer-2001   \n",
       "\n",
       "     target  \n",
       "0         1  \n",
       "1         1  \n",
       "2         1  \n",
       "3         1  \n",
       "4         1  \n",
       "..      ...  \n",
       "846       1  \n",
       "847       1  \n",
       "848       1  \n",
       "849       1  \n",
       "850       1  \n",
       "\n",
       "[851 rows x 4 columns]"
      ]
     },
     "execution_count": 5,
     "metadata": {},
     "output_type": "execute_result"
    }
   ],
   "source": [
    "import pandas as pd\n",
    "\n",
    "rev_df = pd.DataFrame(reviews)\n",
    "rev_df['grade'] = rev_df['grade'].astype(float)\n",
    "\n",
    "# critic (non-user) reviews have 0-100 scores, so we divide them by 10\n",
    "rev_df['grade'] = rev_df['grade'].apply(lambda x: x / 10 if x > 10 else x)\n",
    "# divide the grades into positive and negative\n",
    "rev_df['target'] = rev_df['grade'].apply(lambda x: 0 if x < 5 else 1)\n",
    "rev_df"
   ]
  },
  {
   "cell_type": "code",
   "execution_count": 4,
   "metadata": {},
   "outputs": [],
   "source": [
    "import pandas as pd\n",
    "rev_df = pd.read_json('weezer_reviews.json')"
   ]
  },
  {
   "cell_type": "code",
   "execution_count": 5,
   "metadata": {},
   "outputs": [
    {
     "name": "stderr",
     "output_type": "stream",
     "text": [
      "/Users/shikunova/opt/anaconda3/lib/python3.8/site-packages/seaborn/distributions.py:2557: FutureWarning: `distplot` is a deprecated function and will be removed in a future version. Please adapt your code to use either `displot` (a figure-level function with similar flexibility) or `histplot` (an axes-level function for histograms).\n",
      "  warnings.warn(msg, FutureWarning)\n"
     ]
    },
    {
     "data": {
      "text/plain": [
       "<AxesSubplot:xlabel='grade', ylabel='Density'>"
      ]
     },
     "execution_count": 5,
     "metadata": {},
     "output_type": "execute_result"
    },
    {
     "data": {
      "image/png": "[encoded data removed]",
      "text/plain": [
       "<Figure size 432x288 with 1 Axes>"
      ]
     },
     "metadata": {
      "needs_background": "light"
     },
     "output_type": "display_data"
    }
   ],
   "source": [
    "import matplotlib.pyplot as plt\n",
    "import seaborn as sns\n",
    "\n",
    "# distribution of the grades (skewed towards the positive; people seem to like weezer too much for their own good)\n",
    "sns.distplot(rev_df['grade'])"
   ]
  },
  {
   "cell_type": "code",
   "execution_count": 6,
   "metadata": {},
   "outputs": [
    {
     "data": {
      "text/plain": [
       "1    700\n",
       "0    151\n",
       "Name: target, dtype: int64"
      ]
     },
     "execution_count": 6,
     "metadata": {},
     "output_type": "execute_result"
    }
   ],
   "source": [
    "# not balanced\n",
    "rev_df['target'].value_counts()"
   ]
  },
  {
   "cell_type": "code",
   "execution_count": 7,
   "metadata": {},
   "outputs": [
    {
     "data": {
      "text/plain": [
       "<AxesSubplot:title={'center':'Positive reviews by album'}, xlabel='album'>"
      ]
     },
     "execution_count": 7,
     "metadata": {},
     "output_type": "execute_result"
    },
    {
     "data": {
      "image/png": "[encoded data removed]",
      "text/plain": [
       "<Figure size 432x288 with 1 Axes>"
      ]
     },
     "metadata": {
      "needs_background": "light"
     },
     "output_type": "display_data"
    }
   ],
   "source": [
    "show_df = rev_df.groupby('album')['target'].sum()\n",
    "plt.title('Positive reviews by album')\n",
    "plt.xticks(rotation=90)\n",
    "sns.barplot(x=show_df.index, y=show_df.values)"
   ]
  },
  {
   "cell_type": "code",
   "execution_count": 9,
   "metadata": {},
   "outputs": [],
   "source": [
    "# save the data\n",
    "rev_df.to_json('weezer_reviews.json')"
   ]
  },
  {
   "cell_type": "markdown",
   "metadata": {},
   "source": [
    "2. Токенизируйте слова,  приведите их к нижнему регистру и к начальной форме  (1 балл за токенизацию, 1 - за начальную форму)\n",
    "\n",
    "3. Составьте 2 множества - в одном будут слова, которые встречаются только в положительных отзывах, а в другом - встречающиеся только в отрицательных. Попробуйте поиграть с частотностями и исключить шум (к примеру, выбросить слова, встречающиеся 1-2 раза) (2 балла) (если у вас получились пустые множества, уберите фильтр по частотности или увеличьте выборку)\n",
    "\n",
    "4. Создайте функцию, которая будет определять, положительный ли отзыв или отрицательный в зависимости от того, какие слова встретились в нём, и посчитайте качество при помощи accuracy (1  - за коректно работающую функцию, 1 - за подсчёт accuracy)\n",
    "\n",
    "5. Предложите как минимум 2 способа улучшить эту программу с помощью добавления к ней любых мулек (1 балл за описание словами, 2 - если реализуете хотя бы один способ)\n",
    "\n",
    "В случае, если после долгих мучений в п. 3 множества по объективным причинам не получается (покажите, что пытались) - отправляйте жабу - зачтём полный балл"
   ]
  },
  {
   "cell_type": "code",
   "execution_count": 8,
   "metadata": {},
   "outputs": [],
   "source": [
    "from nltk.tokenize import wordpunct_tokenize\n",
    "from nltk.stem import WordNetLemmatizer\n",
    "import string\n",
    "  \n",
    "lemmatizer = WordNetLemmatizer()\n",
    "\n",
    "def preprocess_text(s, return_list=True):\n",
    "    # lower and tokenize\n",
    "    tokens = wordpunct_tokenize(s.lower())\n",
    "    # lemmatize\n",
    "    lemmas = []\n",
    "    for token in tokens:\n",
    "        # skip numbers and punctuation\n",
    "        if not (all([char in string.punctuation+'!….' for char in token]) or all([char.isdigit() for char in token])):\n",
    "            lemmas.append(lemmatizer.lemmatize(token))\n",
    "        \n",
    "    if return_list:   \n",
    "        return lemmas\n",
    "    else:\n",
    "        return ' '.join(lemmas)"
   ]
  },
  {
   "cell_type": "code",
   "execution_count": 9,
   "metadata": {},
   "outputs": [
    {
     "data": {
      "text/plain": [
       "['i', 'love', 'train', 'aaaaaa']"
      ]
     },
     "execution_count": 9,
     "metadata": {},
     "output_type": "execute_result"
    }
   ],
   "source": [
    "preprocess_text('I lovE trAINS!!! 228322 aaaaaa')"
   ]
  },
  {
   "cell_type": "code",
   "execution_count": 10,
   "metadata": {},
   "outputs": [
    {
     "name": "stderr",
     "output_type": "stream",
     "text": [
      "100%|██████████| 851/851 [00:00<00:00, 1842.61it/s]\n"
     ]
    }
   ],
   "source": [
    "from tqdm import tqdm\n",
    "tqdm.pandas()\n",
    "\n",
    "# preprocess the entire text column\n",
    "rev_df['prep_text'] = rev_df['text'].progress_apply(preprocess_text)"
   ]
  },
  {
   "cell_type": "markdown",
   "metadata": {},
   "source": [
    "3. Составьте 2 множества - в одном будут слова, которые встречаются только в положительных отзывах, а в другом - встречающиеся только в отрицательных. Попробуйте поиграть с частотностями и исключить шум (к примеру, выбросить слова, встречающиеся 1-2 раза) (2 балла) (если у вас получились пустые множества, уберите фильтр по частотности или увеличьте выборку)"
   ]
  },
  {
   "cell_type": "code",
   "execution_count": 11,
   "metadata": {},
   "outputs": [
    {
     "name": "stdout",
     "output_type": "stream",
     "text": [
      "680 training reviews\n",
      "85 validation reviews\n",
      "86 testing reviews\n"
     ]
    }
   ],
   "source": [
    "from sklearn.model_selection import train_test_split\n",
    "\n",
    "# 80% train, 10% validation, 10% test\n",
    "X_train, X_val_test, y_train, y_val_test = train_test_split(\n",
    "    rev_df[['text', 'prep_text']], rev_df[['target']], test_size=0.2, random_state=42)\n",
    "\n",
    "X_val, X_test, y_val, y_test = train_test_split(\n",
    "    X_val_test, y_val_test, test_size=0.5, random_state=42)\n",
    "\n",
    "print(len(X_train), 'training reviews')\n",
    "print(len(X_val), 'validation reviews')\n",
    "print(len(X_test), 'testing reviews')"
   ]
  },
  {
   "cell_type": "code",
   "execution_count": 12,
   "metadata": {},
   "outputs": [],
   "source": [
    "from collections import Counter\n",
    "\n",
    "# make word lists for good and bad reviews\n",
    "all_words_good = sum(X_train.loc[y_train['target'] == 1]['prep_text'].tolist(), [])\n",
    "all_words_bad = sum(X_train.loc[y_train['target'] == 0]['prep_text'].tolist(), [])\n",
    "\n",
    "# make frequency dicts\n",
    "freq_dict_good = Counter(all_words_good)\n",
    "freq_dict_bad = Counter(all_words_bad)"
   ]
  },
  {
   "cell_type": "code",
   "execution_count": 13,
   "metadata": {},
   "outputs": [],
   "source": [
    "# take top 200 words by frequency\n",
    "most_freq_good = dict(freq_dict_good.most_common(200)).keys()\n",
    "most_freq_bad = dict(freq_dict_bad.most_common(200)).keys()"
   ]
  },
  {
   "cell_type": "code",
   "execution_count": 14,
   "metadata": {},
   "outputs": [
    {
     "name": "stdout",
     "output_type": "stream",
     "text": [
      "42 good-only words\n",
      "42 bad-only words\n"
     ]
    }
   ],
   "source": [
    "words_good_only = set(most_freq_good).difference(set(most_freq_bad))\n",
    "words_bad_only = set(most_freq_bad).difference(set(most_freq_good))\n",
    "\n",
    "print(len(words_good_only), 'good-only words')\n",
    "print(len(words_bad_only), 'bad-only words')"
   ]
  },
  {
   "cell_type": "markdown",
   "metadata": {},
   "source": [
    "4. Создайте функцию, которая будет определять, положительный ли отзыв или отрицательный в зависимости от того, какие слова встретились в нём, и посчитайте качество при помощи accuracy (1  - за коректно работающую функцию, 1 - за подсчёт accuracy)"
   ]
  },
  {
   "cell_type": "code",
   "execution_count": 15,
   "metadata": {},
   "outputs": [],
   "source": [
    "def predict(text, preprocess=True, return_proba=False):\n",
    "    \n",
    "    if preprocess:\n",
    "        prep_text = preprocess_text(text)\n",
    "    try:\n",
    "        good_proba = sum([word in words_good_only for word in prep_text]) / len(prep_text)\n",
    "    except ZeroDivisionError:\n",
    "        good_proba = 0\n",
    "    try:\n",
    "        bad_proba = sum([word in words_bad_only for word in prep_text]) / len(prep_text)\n",
    "    except ZeroDivisionError:\n",
    "        bad_proba = 0\n",
    "        \n",
    "    proba_dic = {1: good_proba, 0: bad_proba}\n",
    "    \n",
    "    if return_proba:\n",
    "        return proba_dic\n",
    "    else:\n",
    "        return max(proba_dic, key=proba_dic.get)"
   ]
  },
  {
   "cell_type": "code",
   "execution_count": 16,
   "metadata": {},
   "outputs": [
    {
     "name": "stdout",
     "output_type": "stream",
     "text": [
      "train accuracy: 0.825\n",
      "val accuracy: 0.7176470588235294\n"
     ]
    }
   ],
   "source": [
    "from sklearn.metrics import accuracy_score\n",
    "\n",
    "y_train_pred = X_train['text'].apply(predict)\n",
    "y_val_pred = X_val['text'].apply(predict)\n",
    "\n",
    "print('train accuracy:', accuracy_score(y_train, y_train_pred))\n",
    "print('val accuracy:', accuracy_score(y_val, y_val_pred))"
   ]
  },
  {
   "cell_type": "code",
   "execution_count": 17,
   "metadata": {},
   "outputs": [
    {
     "name": "stdout",
     "output_type": "stream",
     "text": [
      "              precision    recall  f1-score   support\n",
      "\n",
      "         BAD       0.21      0.31      0.25        13\n",
      "        GOOD       0.86      0.79      0.83        72\n",
      "\n",
      "    accuracy                           0.72        85\n",
      "   macro avg       0.54      0.55      0.54        85\n",
      "weighted avg       0.76      0.72      0.74        85\n",
      "\n",
      "0.8260869565217391\n"
     ]
    }
   ],
   "source": [
    "# the dataset is imbalanced, so i want to check the bigger picture\n",
    "from sklearn.metrics import classification_report\n",
    "from sklearn.metrics import f1_score\n",
    "\n",
    "print(classification_report(y_val, y_val_pred, target_names=['BAD', 'GOOD']))\n",
    "print(f1_score(y_val, y_val_pred))"
   ]
  },
  {
   "cell_type": "markdown",
   "metadata": {},
   "source": [
    "5. Предложите как минимум 2 способа улучшить эту программу с помощью добавления к ней любых мулек (1 балл за описание словами, 2 - если реализуете хотя бы один способ)\n",
    "\n",
    "В случае, если после долгих мучений в п. 3 множества по объективным причинам не получается (покажите, что пытались) - отправляйте жабу - зачтём полный балл"
   ]
  },
  {
   "cell_type": "markdown",
   "metadata": {
    "tags": []
   },
   "source": [
    "## Мулька 1\n",
    "\n",
    "Оптимизация: подберем оптимальные гиперпараметры нашего классификатора"
   ]
  },
  {
   "cell_type": "code",
   "execution_count": 18,
   "metadata": {},
   "outputs": [],
   "source": [
    "import optuna\n",
    "\n",
    "# function that takes hyperparameters and returns a metric that is to be maximized\n",
    "def objective(trial):\n",
    "    \n",
    "    # top N words in a freq dict parameter\n",
    "    top_good = trial.suggest_int('top_good', 10, 1000)\n",
    "    top_bad = trial.suggest_int('top_bad', 10, 1000)\n",
    "    \n",
    "    most_freq_good = dict(freq_dict_good.most_common(top_good)).keys()\n",
    "    most_freq_bad = dict(freq_dict_bad.most_common(top_bad)).keys()\n",
    "    \n",
    "    words_good_only = set(most_freq_good).difference(set(most_freq_bad))\n",
    "    words_bad_only = set(most_freq_bad).difference(set(most_freq_good))\n",
    "    \n",
    "    y_val_pred = X_val['text'].apply(predict)\n",
    "    \n",
    "    return f1_score(y_val, y_val_pred)\n",
    "\n",
    "def tune(objective):\n",
    "    study = optuna.create_study(direction=\"maximize\")\n",
    "    study.optimize(objective, n_trials=20)\n",
    "    \n",
    "    params = study.best_params\n",
    "    best_score = study.best_value\n",
    "    \n",
    "    print(f\"best score: {best_score}\\n\")\n",
    "    print(f\"best parameters: {params}\")\n",
    "    \n",
    "    return params"
   ]
  },
  {
   "cell_type": "code",
   "execution_count": 19,
   "metadata": {
    "scrolled": true,
    "tags": []
   },
   "outputs": [
    {
     "name": "stderr",
     "output_type": "stream",
     "text": [
      "\u001b[32m[I 2022-10-11 21:09:06,793]\u001b[0m A new study created in memory with name: no-name-8968b99e-f42c-46fa-bae0-513382ef628b\u001b[0m\n",
      "\u001b[32m[I 2022-10-11 21:09:06,870]\u001b[0m Trial 0 finished with value: 0.8260869565217391 and parameters: {'top_good': 905, 'top_bad': 536}. Best is trial 0 with value: 0.8260869565217391.\u001b[0m\n",
      "\u001b[32m[I 2022-10-11 21:09:06,915]\u001b[0m Trial 1 finished with value: 0.8260869565217391 and parameters: {'top_good': 193, 'top_bad': 918}. Best is trial 0 with value: 0.8260869565217391.\u001b[0m\n",
      "\u001b[32m[I 2022-10-11 21:09:06,961]\u001b[0m Trial 2 finished with value: 0.8260869565217391 and parameters: {'top_good': 333, 'top_bad': 518}. Best is trial 0 with value: 0.8260869565217391.\u001b[0m\n",
      "\u001b[32m[I 2022-10-11 21:09:07,006]\u001b[0m Trial 3 finished with value: 0.8260869565217391 and parameters: {'top_good': 621, 'top_bad': 176}. Best is trial 0 with value: 0.8260869565217391.\u001b[0m\n",
      "\u001b[32m[I 2022-10-11 21:09:07,052]\u001b[0m Trial 4 finished with value: 0.8260869565217391 and parameters: {'top_good': 564, 'top_bad': 317}. Best is trial 0 with value: 0.8260869565217391.\u001b[0m\n",
      "\u001b[32m[I 2022-10-11 21:09:07,097]\u001b[0m Trial 5 finished with value: 0.8260869565217391 and parameters: {'top_good': 163, 'top_bad': 395}. Best is trial 0 with value: 0.8260869565217391.\u001b[0m\n",
      "\u001b[32m[I 2022-10-11 21:09:07,145]\u001b[0m Trial 6 finished with value: 0.8260869565217391 and parameters: {'top_good': 64, 'top_bad': 731}. Best is trial 0 with value: 0.8260869565217391.\u001b[0m\n",
      "\u001b[32m[I 2022-10-11 21:09:07,188]\u001b[0m Trial 7 finished with value: 0.8260869565217391 and parameters: {'top_good': 838, 'top_bad': 153}. Best is trial 0 with value: 0.8260869565217391.\u001b[0m\n",
      "\u001b[32m[I 2022-10-11 21:09:07,233]\u001b[0m Trial 8 finished with value: 0.8260869565217391 and parameters: {'top_good': 211, 'top_bad': 154}. Best is trial 0 with value: 0.8260869565217391.\u001b[0m\n",
      "\u001b[32m[I 2022-10-11 21:09:07,278]\u001b[0m Trial 9 finished with value: 0.8260869565217391 and parameters: {'top_good': 68, 'top_bad': 177}. Best is trial 0 with value: 0.8260869565217391.\u001b[0m\n",
      "\u001b[32m[I 2022-10-11 21:09:07,333]\u001b[0m Trial 10 finished with value: 0.8260869565217391 and parameters: {'top_good': 987, 'top_bad': 618}. Best is trial 0 with value: 0.8260869565217391.\u001b[0m\n",
      "\u001b[32m[I 2022-10-11 21:09:07,380]\u001b[0m Trial 11 finished with value: 0.8260869565217391 and parameters: {'top_good': 395, 'top_bad': 969}. Best is trial 0 with value: 0.8260869565217391.\u001b[0m\n",
      "\u001b[32m[I 2022-10-11 21:09:07,435]\u001b[0m Trial 12 finished with value: 0.8260869565217391 and parameters: {'top_good': 718, 'top_bad': 992}. Best is trial 0 with value: 0.8260869565217391.\u001b[0m\n",
      "\u001b[32m[I 2022-10-11 21:09:07,486]\u001b[0m Trial 13 finished with value: 0.8260869565217391 and parameters: {'top_good': 996, 'top_bad': 793}. Best is trial 0 with value: 0.8260869565217391.\u001b[0m\n",
      "\u001b[32m[I 2022-10-11 21:09:07,536]\u001b[0m Trial 14 finished with value: 0.8260869565217391 and parameters: {'top_good': 425, 'top_bad': 805}. Best is trial 0 with value: 0.8260869565217391.\u001b[0m\n",
      "\u001b[32m[I 2022-10-11 21:09:07,587]\u001b[0m Trial 15 finished with value: 0.8260869565217391 and parameters: {'top_good': 808, 'top_bad': 615}. Best is trial 0 with value: 0.8260869565217391.\u001b[0m\n",
      "\u001b[32m[I 2022-10-11 21:09:07,636]\u001b[0m Trial 16 finished with value: 0.8260869565217391 and parameters: {'top_good': 298, 'top_bad': 17}. Best is trial 0 with value: 0.8260869565217391.\u001b[0m\n",
      "\u001b[32m[I 2022-10-11 21:09:07,686]\u001b[0m Trial 17 finished with value: 0.8260869565217391 and parameters: {'top_good': 481, 'top_bad': 795}. Best is trial 0 with value: 0.8260869565217391.\u001b[0m\n",
      "\u001b[32m[I 2022-10-11 21:09:07,736]\u001b[0m Trial 18 finished with value: 0.8260869565217391 and parameters: {'top_good': 828, 'top_bad': 602}. Best is trial 0 with value: 0.8260869565217391.\u001b[0m\n",
      "\u001b[32m[I 2022-10-11 21:09:07,786]\u001b[0m Trial 19 finished with value: 0.8260869565217391 and parameters: {'top_good': 308, 'top_bad': 38}. Best is trial 0 with value: 0.8260869565217391.\u001b[0m\n"
     ]
    },
    {
     "name": "stdout",
     "output_type": "stream",
     "text": [
      "best score: 0.8260869565217391\n",
      "\n",
      "best parameters: {'top_good': 905, 'top_bad': 536}\n"
     ]
    }
   ],
   "source": [
    "best_params = tune(objective)"
   ]
  },
  {
   "cell_type": "code",
   "execution_count": 20,
   "metadata": {},
   "outputs": [],
   "source": [
    "most_freq_good = dict(freq_dict_good.most_common(best_params['top_good'])).keys()\n",
    "most_freq_bad = dict(freq_dict_bad.most_common(best_params['top_bad'])).keys()\n",
    "    \n",
    "words_good_only = set(most_freq_good).difference(set(most_freq_bad))\n",
    "words_bad_only = set(most_freq_bad).difference(set(most_freq_good))\n",
    "\n",
    "freq_dict_y_test_pred = X_test['text'].apply(predict)"
   ]
  },
  {
   "cell_type": "code",
   "execution_count": 24,
   "metadata": {},
   "outputs": [],
   "source": [
    "import json\n",
    "\n",
    "with open('../hw2_pos_tagging/dicts.json', 'w') as f:\n",
    "    json.dump({\n",
    "        'good': list(words_good_only),\n",
    "        'bad': list(words_bad_only)\n",
    "    }, f)"
   ]
  },
  {
   "cell_type": "markdown",
   "metadata": {},
   "source": [
    "## Мулька 2\n",
    "\n",
    "Векторизация: удалим стоп-слова и превратим наши отзывы в векторы с помощью tf-idf"
   ]
  },
  {
   "cell_type": "code",
   "execution_count": 23,
   "metadata": {},
   "outputs": [],
   "source": [
    "from nltk.corpus import stopwords\n",
    "\n",
    "stops = stopwords.words('english')\n",
    "\n",
    "# change the preprocessing function a little bit\n",
    "def preprocess_text(s, return_list=False, remove_stops=True):\n",
    "    tokens = wordpunct_tokenize(s.lower())\n",
    "    lemmas = []\n",
    "    for token in tokens:\n",
    "        # now it checks for whether we need to remove stopwords\n",
    "        if not (all([char in string.punctuation+'!….' for char in token]) or \n",
    "                all([char.isdigit() for char in token]))\\\n",
    "           and not (remove_stops and token in stops):\n",
    "            lemmas.append(token)\n",
    "        \n",
    "    if return_list:   \n",
    "        return lemmas\n",
    "    else:\n",
    "        return ' '.join(lemmas)"
   ]
  },
  {
   "cell_type": "code",
   "execution_count": 24,
   "metadata": {},
   "outputs": [
    {
     "data": {
      "text/plain": [
       "'love trains much'"
      ]
     },
     "execution_count": 24,
     "metadata": {},
     "output_type": "execute_result"
    }
   ],
   "source": [
    "preprocess_text('i LOVE trains so much!!! :333', return_list=False)"
   ]
  },
  {
   "cell_type": "code",
   "execution_count": 25,
   "metadata": {},
   "outputs": [
    {
     "name": "stderr",
     "output_type": "stream",
     "text": [
      "100%|██████████| 851/851 [00:00<00:00, 3175.32it/s]\n"
     ]
    }
   ],
   "source": [
    "rev_df['text_for_vec'] = rev_df['text'].progress_apply(preprocess_text)"
   ]
  },
  {
   "cell_type": "code",
   "execution_count": 26,
   "metadata": {},
   "outputs": [
    {
     "name": "stdout",
     "output_type": "stream",
     "text": [
      "680 training reviews\n",
      "85 validation reviews\n",
      "86 testing reviews\n"
     ]
    }
   ],
   "source": [
    "from sklearn.feature_extraction.text import TfidfVectorizer\n",
    "from sklearn.linear_model import LogisticRegression\n",
    "from sklearn.pipeline import Pipeline\n",
    "\n",
    "X_train, X_val_test, y_train, y_val_test = train_test_split(\n",
    "    rev_df['text_for_vec'], rev_df['target'], test_size=0.2, random_state=42)\n",
    "\n",
    "X_val, X_test, y_val, y_test = train_test_split(\n",
    "    X_val_test, y_val_test, test_size=0.5, random_state=42)\n",
    "\n",
    "print(len(X_train), 'training reviews')\n",
    "print(len(X_val), 'validation reviews')\n",
    "print(len(X_test), 'testing reviews')\n",
    "\n",
    "pipe = Pipeline([\n",
    "    ('tfidf', TfidfVectorizer()),\n",
    "    ('logreg', LogisticRegression())\n",
    "])\n",
    "\n",
    "pipe = pipe.fit(X_train, y_train)"
   ]
  },
  {
   "cell_type": "code",
   "execution_count": 27,
   "metadata": {
    "tags": []
   },
   "outputs": [
    {
     "name": "stdout",
     "output_type": "stream",
     "text": [
      "train f1: 0.9080553295362083\n",
      "val f1: 0.9171974522292993\n"
     ]
    }
   ],
   "source": [
    "y_train_pred = pipe.predict(X_train)\n",
    "y_val_pred = pipe.predict(X_val)\n",
    "y_test_pred = pipe.predict(X_test)\n",
    "\n",
    "print('train f1:', f1_score(y_train, y_train_pred))\n",
    "print('val f1:', f1_score(y_val, y_val_pred))"
   ]
  },
  {
   "cell_type": "markdown",
   "metadata": {},
   "source": [
    "Сейчас мы будем все оптимизировать"
   ]
  },
  {
   "cell_type": "code",
   "execution_count": 28,
   "metadata": {},
   "outputs": [],
   "source": [
    "def objective(trial):\n",
    "    \n",
    "    params = {\n",
    "        'tfidf__min_df': trial.suggest_float('tfidf__min_df', 0, 1),\n",
    "        'tfidf__max_df': trial.suggest_float('tfidf__max_df', 0, 1),\n",
    "        'logreg__C': trial.suggest_float('logreg__C', 0, 1)\n",
    "    }\n",
    "    \n",
    "    pipe.set_params(**params)\n",
    "    y_val_pred = pipe.predict(X_val)\n",
    "    score = f1_score(y_val, y_val_pred)\n",
    "    \n",
    "    return score\n",
    "\n",
    "def tune(objective):\n",
    "    study = optuna.create_study(direction=\"maximize\")\n",
    "    study.optimize(objective, n_trials=30)\n",
    "    \n",
    "    params = study.best_params\n",
    "    best_score = study.best_value\n",
    "    \n",
    "    print(f\"best score: {best_score}\\n\")\n",
    "    print(f\"best parameters: {params}\\n\")\n",
    "    \n",
    "    return params"
   ]
  },
  {
   "cell_type": "code",
   "execution_count": 2,
   "metadata": {
    "scrolled": true,
    "tags": []
   },
   "outputs": [
    {
     "ename": "NameError",
     "evalue": "name 'tune' is not defined",
     "output_type": "error",
     "traceback": [
      "\u001b[0;31m---------------------------------------------------------------------------\u001b[0m",
      "\u001b[0;31mNameError\u001b[0m                                 Traceback (most recent call last)",
      "\u001b[0;32m<ipython-input-2-e87cc1420c3b>\u001b[0m in \u001b[0;36m<module>\u001b[0;34m\u001b[0m\n\u001b[0;32m----> 1\u001b[0;31m \u001b[0mbest_params\u001b[0m \u001b[0;34m=\u001b[0m \u001b[0mtune\u001b[0m\u001b[0;34m(\u001b[0m\u001b[0mobjective\u001b[0m\u001b[0;34m)\u001b[0m\u001b[0;34m\u001b[0m\u001b[0;34m\u001b[0m\u001b[0m\n\u001b[0m",
      "\u001b[0;31mNameError\u001b[0m: name 'tune' is not defined"
     ]
    }
   ],
   "source": [
    "best_params = tune(objective)"
   ]
  },
  {
   "cell_type": "code",
   "execution_count": 1,
   "metadata": {
    "collapsed": true,
    "jupyter": {
     "outputs_hidden": true
    },
    "tags": []
   },
   "outputs": [
    {
     "ename": "NameError",
     "evalue": "name 'pipe' is not defined",
     "output_type": "error",
     "traceback": [
      "\u001b[0;31m---------------------------------------------------------------------------\u001b[0m",
      "\u001b[0;31mNameError\u001b[0m                                 Traceback (most recent call last)",
      "\u001b[0;32m<ipython-input-1-9948e61bc830>\u001b[0m in \u001b[0;36m<module>\u001b[0;34m\u001b[0m\n\u001b[0;32m----> 1\u001b[0;31m \u001b[0mpipe\u001b[0m\u001b[0;34m.\u001b[0m\u001b[0mset_params\u001b[0m\u001b[0;34m(\u001b[0m\u001b[0;34m**\u001b[0m\u001b[0mbest_params\u001b[0m\u001b[0;34m)\u001b[0m\u001b[0;34m\u001b[0m\u001b[0;34m\u001b[0m\u001b[0m\n\u001b[0m\u001b[1;32m      2\u001b[0m \u001b[0;34m\u001b[0m\u001b[0m\n\u001b[1;32m      3\u001b[0m \u001b[0my_train_pred\u001b[0m \u001b[0;34m=\u001b[0m \u001b[0mpipe\u001b[0m\u001b[0;34m.\u001b[0m\u001b[0mpredict\u001b[0m\u001b[0;34m(\u001b[0m\u001b[0mX_train\u001b[0m\u001b[0;34m)\u001b[0m\u001b[0;34m\u001b[0m\u001b[0;34m\u001b[0m\u001b[0m\n\u001b[1;32m      4\u001b[0m \u001b[0my_val_pred\u001b[0m \u001b[0;34m=\u001b[0m \u001b[0mpipe\u001b[0m\u001b[0;34m.\u001b[0m\u001b[0mpredict\u001b[0m\u001b[0;34m(\u001b[0m\u001b[0mX_val\u001b[0m\u001b[0;34m)\u001b[0m\u001b[0;34m\u001b[0m\u001b[0;34m\u001b[0m\u001b[0m\n\u001b[1;32m      5\u001b[0m \u001b[0mpipe_y_test_pred\u001b[0m \u001b[0;34m=\u001b[0m \u001b[0mpipe\u001b[0m\u001b[0;34m.\u001b[0m\u001b[0mpredict\u001b[0m\u001b[0;34m(\u001b[0m\u001b[0mX_test\u001b[0m\u001b[0;34m)\u001b[0m\u001b[0;34m\u001b[0m\u001b[0;34m\u001b[0m\u001b[0m\n",
      "\u001b[0;31mNameError\u001b[0m: name 'pipe' is not defined"
     ]
    }
   ],
   "source": [
    "pipe.set_params(**best_params)\n",
    "\n",
    "y_train_pred = pipe.predict(X_train)\n",
    "y_val_pred = pipe.predict(X_val)\n",
    "pipe_y_test_pred = pipe.predict(X_test)\n",
    "\n",
    "print('train f1:', f1_score(y_train, y_train_pred))\n",
    "print('val f1:', f1_score(y_val, y_val_pred))"
   ]
  },
  {
   "cell_type": "markdown",
   "metadata": {},
   "source": [
    "# Итоги\n",
    "\n",
    "Проверим наши мульки на тестовом датасете и выберем лучшую"
   ]
  },
  {
   "cell_type": "code",
   "execution_count": 31,
   "metadata": {},
   "outputs": [
    {
     "name": "stdout",
     "output_type": "stream",
     "text": [
      "freq dict solution f1:  0.9019607843137254\n",
      "tfidf+logreg pipeline f1:  0.8974358974358974\n"
     ]
    }
   ],
   "source": [
    "print('freq dict solution f1: ', f1_score(y_test, freq_dict_y_test_pred))\n",
    "print('tfidf+logreg pipeline f1: ', f1_score(y_test, pipe_y_test_pred))"
   ]
  },
  {
   "cell_type": "markdown",
   "metadata": {},
   "source": [
    "Пайплайн справился получше, но оптимизированное кирколопатное решение тоже ничего"
   ]
  }
 ],
 "metadata": {
  "colab": {
   "authorship_tag": "ABX9TyOhO9ANVm4SXK9q5vI0e+E4",
   "collapsed_sections": [],
   "name": "Hometask 1.ipynb",
   "provenance": []
  },
  "kernelspec": {
   "display_name": "Python 3",
   "language": "python",
   "name": "python3"
  },
  "language_info": {
   "codemirror_mode": {
    "name": "ipython",
    "version": 3
   },
   "file_extension": ".py",
   "mimetype": "text/x-python",
   "name": "python",
   "nbconvert_exporter": "python",
   "pygments_lexer": "ipython3",
   "version": "3.8.8"
  }
 },
 "nbformat": 4,
 "nbformat_minor": 4
}
