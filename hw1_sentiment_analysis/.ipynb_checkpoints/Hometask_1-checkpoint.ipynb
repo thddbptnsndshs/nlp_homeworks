{
 "cells": [
  {
   "cell_type": "markdown",
   "metadata": {
    "colab": {},
    "colab_type": "code",
    "id": "LrdL__lCtr6M"
   },
   "source": [
    "## Базовые требования к домашкам\n",
    "\n",
    "1. Формат - jupyter-тетрадка или скрипт на питоне\n",
    "2. Мы запускаем ваши тетрадки с нуля, поэтому следите, чтобы не было \n",
    "- необъявленных переменных (удалили ячейку, а переменная продолжает использоваться)\n",
    "- лишних принтов отладочной информации\n",
    "3. Комментарии приветствуются!"
   ]
  },
  {
   "cell_type": "markdown",
   "metadata": {
    "colab_type": "text",
    "id": "r_CzjN-StydR"
   },
   "source": [
    "## Задание\n",
    "В рамках этого задания мы будем создавать программу, которая получая на вход отзыв, будет предсказывать, является отзыв положительным или отрицательным. Делать мы будем это таким образом: мы возьмём некоторое число заранее размеченных как положительные или отрицательные отзывов, выделим те слова, которые встречаются только в положительных или только в отрицательных отзывах, и будем считать, каких слов  в поступившем нам на проверку отзыве больше.\n",
    "\n",
    "\n",
    "Мы будем работать по заранее определённому пайплайну:\n",
    "\n",
    "1.  Сначала нам надо скачать дату -- соберите как минимум 60 (30 положительных  и 30 отрицательных) отзывов на похожие продукты (не надо мешать отзывы на отели с отзывами на ноутбуки) для составления \"тонального словаря\" (чем больше отзывов, тем лучше)  и 10 отзывов для проверки качества.   (2 балла в случае сбора путём парсинга, 1 - если найдете уже готовые данные или просто закопипастите без парсинга)"
   ]
  },
  {
   "cell_type": "markdown",
   "metadata": {},
   "source": [
    "# Решение\n",
    "\n",
    "Данные собраны с сайта [metacritic.com](https://www.metacritic.com/person/weezer), это отзывы на альбомы Weezer\n",
    "\n",
    "штош пишем краулер"
   ]
  },
  {
   "cell_type": "code",
   "execution_count": 1,
   "metadata": {},
   "outputs": [],
   "source": [
    "import requests\n",
    "from fake_useragent import UserAgent\n",
    "from bs4 import BeautifulSoup\n",
    "\n",
    "import time\n",
    "import random\n",
    "\n",
    "session = requests.session()\n",
    "known_proxy_ip = '109.173.86.43:8000'\n",
    "proxy = {'http': known_proxy_ip, 'https': known_proxy_ip}\n",
    "\n",
    "with open('errors.txt', 'w') as f:\n",
    "    pass\n",
    "\n",
    "# download soup\n",
    "\n",
    "def get_page(url): \n",
    "    \n",
    "    user_agent = UserAgent().chrome\n",
    "    try:\n",
    "        response = session.get(url, headers={'User-Agent':user_agent})\n",
    "    except Exception as err:\n",
    "        with open('errors.txt', 'a') as f:\n",
    "            f.write(f'{err}\\t{url}\\n')\n",
    "    soup = BeautifulSoup(response.text, 'html.parser')\n",
    "    time.sleep(random.random())\n",
    "    \n",
    "    return soup"
   ]
  },
  {
   "cell_type": "code",
   "execution_count": 2,
   "metadata": {},
   "outputs": [],
   "source": [
    "# save reviews from a page to a dict\n",
    "\n",
    "def get_reviews(url): \n",
    "    page = get_page(url)\n",
    "    reviews = page.findAll('div', {'class': 'review_content'})\n",
    "    review_dics = []\n",
    "    \n",
    "    for review_soup in reviews:\n",
    "        review_dic = {}\n",
    "        review_dic['text'] = review_soup.findAll('div', {'class': 'review_body'})[0].text.strip()\n",
    "        review_dic['grade'] = review_soup.findAll('div', {'class': 'review_grade'})[0].text.strip()\n",
    "        review_dic['album'] = url.split('/')[-3]\n",
    "        review_dics.append(review_dic)\n",
    "        \n",
    "    return review_dics"
   ]
  },
  {
   "cell_type": "code",
   "execution_count": 3,
   "metadata": {
    "tags": []
   },
   "outputs": [
    {
     "data": {
      "text/plain": [
       "['https://www.metacritic.com/music/sznz-spring-ep/weezer/user-reviews',\n",
       " 'https://www.metacritic.com/music/van-weezer/weezer/user-reviews',\n",
       " 'https://www.metacritic.com/music/ok-human/weezer/user-reviews',\n",
       " 'https://www.metacritic.com/music/weezer-black-album/weezer/user-reviews',\n",
       " 'https://www.metacritic.com/music/weezer-teal-album/weezer/user-reviews',\n",
       " 'https://www.metacritic.com/music/pacific-daydream/weezer/user-reviews',\n",
       " 'https://www.metacritic.com/music/weezer-white-album/weezer/user-reviews',\n",
       " 'https://www.metacritic.com/music/everything-will-be-alright-in-the-end/weezer/user-reviews',\n",
       " 'https://www.metacritic.com/music/death-to-false-metal/weezer/user-reviews',\n",
       " 'https://www.metacritic.com/music/pinkerton-deluxe-edition/weezer/user-reviews',\n",
       " 'https://www.metacritic.com/music/hurley/weezer/user-reviews',\n",
       " 'https://www.metacritic.com/music/raditude/weezer/user-reviews',\n",
       " 'https://www.metacritic.com/music/weezer-red-album/weezer/user-reviews',\n",
       " 'https://www.metacritic.com/music/make-believe/weezer/user-reviews',\n",
       " 'https://www.metacritic.com/music/maladroit/weezer/user-reviews',\n",
       " 'https://www.metacritic.com/music/weezer-2001/weezer/user-reviews']"
      ]
     },
     "execution_count": 3,
     "metadata": {},
     "output_type": "execute_result"
    }
   ],
   "source": [
    "# collect all the links to Weezer album reviews\n",
    "\n",
    "page = get_page('https://www.metacritic.com/person/weezer')\n",
    "links = []\n",
    "\n",
    "for album in page.findAll('td', {'class': 'title brief_metascore'}):\n",
    "    link = album.findAll('a')[0]['href']\n",
    "    links.append(f'https://www.metacritic.com{link}/user-reviews')\n",
    "    \n",
    "links"
   ]
  },
  {
   "cell_type": "code",
   "execution_count": 4,
   "metadata": {},
   "outputs": [
    {
     "data": {
      "text/plain": [
       "851"
      ]
     },
     "execution_count": 4,
     "metadata": {},
     "output_type": "execute_result"
    }
   ],
   "source": [
    "reviews = []\n",
    "\n",
    "for link in links:\n",
    "    reviews.extend(get_reviews(link))\n",
    "    \n",
    "len(reviews)"
   ]
  },
  {
   "cell_type": "code",
   "execution_count": 5,
   "metadata": {},
   "outputs": [
    {
     "data": {
      "text/html": [
       "<div>\n",
       "<style scoped>\n",
       "    .dataframe tbody tr th:only-of-type {\n",
       "        vertical-align: middle;\n",
       "    }\n",
       "\n",
       "    .dataframe tbody tr th {\n",
       "        vertical-align: top;\n",
       "    }\n",
       "\n",
       "    .dataframe thead th {\n",
       "        text-align: right;\n",
       "    }\n",
       "</style>\n",
       "<table border=\"1\" class=\"dataframe\">\n",
       "  <thead>\n",
       "    <tr style=\"text-align: right;\">\n",
       "      <th></th>\n",
       "      <th>text</th>\n",
       "      <th>grade</th>\n",
       "      <th>album</th>\n",
       "      <th>target</th>\n",
       "    </tr>\n",
       "  </thead>\n",
       "  <tbody>\n",
       "    <tr>\n",
       "      <th>0</th>\n",
       "      <td>A continuation with the experimentation that O...</td>\n",
       "      <td>9.0</td>\n",
       "      <td>sznz-spring-ep</td>\n",
       "      <td>1</td>\n",
       "    </tr>\n",
       "    <tr>\n",
       "      <th>1</th>\n",
       "      <td>Undeniably light on substance but still plenty...</td>\n",
       "      <td>8.0</td>\n",
       "      <td>sznz-spring-ep</td>\n",
       "      <td>1</td>\n",
       "    </tr>\n",
       "    <tr>\n",
       "      <th>2</th>\n",
       "      <td>If we’re being honest here, this album isn’t f...</td>\n",
       "      <td>6.0</td>\n",
       "      <td>sznz-spring-ep</td>\n",
       "      <td>1</td>\n",
       "    </tr>\n",
       "    <tr>\n",
       "      <th>3</th>\n",
       "      <td>Really love all the tracks here. Angels On Vac...</td>\n",
       "      <td>10.0</td>\n",
       "      <td>sznz-spring-ep</td>\n",
       "      <td>1</td>\n",
       "    </tr>\n",
       "    <tr>\n",
       "      <th>4</th>\n",
       "      <td>While it does not reach the heights and emotio...</td>\n",
       "      <td>10.0</td>\n",
       "      <td>sznz-spring-ep</td>\n",
       "      <td>1</td>\n",
       "    </tr>\n",
       "    <tr>\n",
       "      <th>...</th>\n",
       "      <td>...</td>\n",
       "      <td>...</td>\n",
       "      <td>...</td>\n",
       "      <td>...</td>\n",
       "    </tr>\n",
       "    <tr>\n",
       "      <th>846</th>\n",
       "      <td>Would I recommend the green album in compariso...</td>\n",
       "      <td>6.0</td>\n",
       "      <td>weezer-2001</td>\n",
       "      <td>1</td>\n",
       "    </tr>\n",
       "    <tr>\n",
       "      <th>847</th>\n",
       "      <td>Ohhh yes good very i think. hmmm no yes it is ...</td>\n",
       "      <td>10.0</td>\n",
       "      <td>weezer-2001</td>\n",
       "      <td>1</td>\n",
       "    </tr>\n",
       "    <tr>\n",
       "      <th>848</th>\n",
       "      <td>The 11 tracks trundle along in a generally ino...</td>\n",
       "      <td>5.0</td>\n",
       "      <td>weezer-2001</td>\n",
       "      <td>1</td>\n",
       "    </tr>\n",
       "    <tr>\n",
       "      <th>849</th>\n",
       "      <td>Feels a bit repetitive and perfunctory the fir...</td>\n",
       "      <td>7.0</td>\n",
       "      <td>weezer-2001</td>\n",
       "      <td>1</td>\n",
       "    </tr>\n",
       "    <tr>\n",
       "      <th>850</th>\n",
       "      <td>Weezer have faced their challenge with confide...</td>\n",
       "      <td>8.0</td>\n",
       "      <td>weezer-2001</td>\n",
       "      <td>1</td>\n",
       "    </tr>\n",
       "  </tbody>\n",
       "</table>\n",
       "<p>851 rows × 4 columns</p>\n",
       "</div>"
      ],
      "text/plain": [
       "                                                  text  grade           album  \\\n",
       "0    A continuation with the experimentation that O...    9.0  sznz-spring-ep   \n",
       "1    Undeniably light on substance but still plenty...    8.0  sznz-spring-ep   \n",
       "2    If we’re being honest here, this album isn’t f...    6.0  sznz-spring-ep   \n",
       "3    Really love all the tracks here. Angels On Vac...   10.0  sznz-spring-ep   \n",
       "4    While it does not reach the heights and emotio...   10.0  sznz-spring-ep   \n",
       "..                                                 ...    ...             ...   \n",
       "846  Would I recommend the green album in compariso...    6.0     weezer-2001   \n",
       "847  Ohhh yes good very i think. hmmm no yes it is ...   10.0     weezer-2001   \n",
       "848  The 11 tracks trundle along in a generally ino...    5.0     weezer-2001   \n",
       "849  Feels a bit repetitive and perfunctory the fir...    7.0     weezer-2001   \n",
       "850  Weezer have faced their challenge with confide...    8.0     weezer-2001   \n",
       "\n",
       "     target  \n",
       "0         1  \n",
       "1         1  \n",
       "2         1  \n",
       "3         1  \n",
       "4         1  \n",
       "..      ...  \n",
       "846       1  \n",
       "847       1  \n",
       "848       1  \n",
       "849       1  \n",
       "850       1  \n",
       "\n",
       "[851 rows x 4 columns]"
      ]
     },
     "execution_count": 5,
     "metadata": {},
     "output_type": "execute_result"
    }
   ],
   "source": [
    "import pandas as pd\n",
    "\n",
    "rev_df = pd.DataFrame(reviews)\n",
    "rev_df['grade'] = rev_df['grade'].astype(float)\n",
    "rev_df['grade'] = rev_df['grade'].apply(lambda x: x / 10 if x > 10 else x)\n",
    "rev_df['target'] = rev_df['grade'].apply(lambda x: 0 if x < 5 else 1)\n",
    "rev_df"
   ]
  },
  {
   "cell_type": "code",
   "execution_count": 6,
   "metadata": {},
   "outputs": [
    {
     "name": "stderr",
     "output_type": "stream",
     "text": [
      "/Users/shikunova/opt/anaconda3/lib/python3.8/site-packages/seaborn/distributions.py:2557: FutureWarning: `distplot` is a deprecated function and will be removed in a future version. Please adapt your code to use either `displot` (a figure-level function with similar flexibility) or `histplot` (an axes-level function for histograms).\n",
      "  warnings.warn(msg, FutureWarning)\n"
     ]
    },
    {
     "data": {
      "text/plain": [
       "<AxesSubplot:xlabel='grade', ylabel='Density'>"
      ]
     },
     "execution_count": 6,
     "metadata": {},
     "output_type": "execute_result"
    },
    {
     "data": {
      "image/png": "[encoded data removed]",
      "text/plain": [
       "<Figure size 432x288 with 1 Axes>"
      ]
     },
     "metadata": {
      "needs_background": "light"
     },
     "output_type": "display_data"
    }
   ],
   "source": [
    "import matplotlib.pyplot as plt\n",
    "import seaborn as sns\n",
    "\n",
    "sns.distplot(rev_df['grade'])"
   ]
  },
  {
   "cell_type": "code",
   "execution_count": 7,
   "metadata": {},
   "outputs": [
    {
     "data": {
      "text/plain": [
       "1    700\n",
       "0    151\n",
       "Name: target, dtype: int64"
      ]
     },
     "execution_count": 7,
     "metadata": {},
     "output_type": "execute_result"
    }
   ],
   "source": [
    "rev_df['target'].value_counts()"
   ]
  },
  {
   "cell_type": "code",
   "execution_count": 8,
   "metadata": {},
   "outputs": [
    {
     "data": {
      "text/plain": [
       "<AxesSubplot:xlabel='album'>"
      ]
     },
     "execution_count": 8,
     "metadata": {},
     "output_type": "execute_result"
    },
    {
     "data": {
      "image/png": "[encoded data removed]",
      "text/plain": [
       "<Figure size 432x288 with 1 Axes>"
      ]
     },
     "metadata": {
      "needs_background": "light"
     },
     "output_type": "display_data"
    }
   ],
   "source": [
    "show_df = rev_df.groupby('album')['target'].sum()\n",
    "plt.xticks(rotation=90)\n",
    "sns.barplot(x=show_df.index, y=show_df.values)"
   ]
  },
  {
   "cell_type": "code",
   "execution_count": 9,
   "metadata": {},
   "outputs": [],
   "source": [
    "rev_df.to_csv('weezer_reviews.csv')"
   ]
  },
  {
   "cell_type": "markdown",
   "metadata": {},
   "source": [
    "2. Токенизируйте слова,  приведите их к нижнему регистру и к начальной форме  (1 балл за токенизацию, 1 - за начальную форму)"
   ]
  },
  {
   "cell_type": "code",
   "execution_count": 10,
   "metadata": {},
   "outputs": [],
   "source": [
    "from nltk.tokenize import wordpunct_tokenize\n",
    "from nltk.stem import WordNetLemmatizer\n",
    "import string\n",
    "  \n",
    "lemmatizer = WordNetLemmatizer()\n",
    "\n",
    "def preprocess_text(s, return_list=True):\n",
    "    tokens = wordpunct_tokenize(s.lower())\n",
    "    lemmas = []\n",
    "    for token in tokens:\n",
    "        if not (all([char in string.punctuation+'!….' for char in token]) or all([char.isdigit() for char in token])):\n",
    "            lemmas.append(lemmatizer.lemmatize(token))\n",
    "        \n",
    "    if return_list:   \n",
    "        return lemmas\n",
    "    else:\n",
    "        return ' '.join(lemmas)"
   ]
  },
  {
   "cell_type": "code",
   "execution_count": 11,
   "metadata": {},
   "outputs": [
    {
     "data": {
      "text/plain": [
       "['i', 'love', 'train', 'aaaaaa']"
      ]
     },
     "execution_count": 11,
     "metadata": {},
     "output_type": "execute_result"
    }
   ],
   "source": [
    "preprocess_text('I lovE trAINS!!! 228322 aaaaaa')"
   ]
  },
  {
   "cell_type": "code",
   "execution_count": 12,
   "metadata": {},
   "outputs": [
    {
     "name": "stderr",
     "output_type": "stream",
     "text": [
      "100%|██████████| 851/851 [00:00<00:00, 1750.16it/s]\n"
     ]
    }
   ],
   "source": [
    "from tqdm import tqdm\n",
    "tqdm.pandas()\n",
    "\n",
    "rev_df['prep_text'] = rev_df['text'].progress_apply(preprocess_text)"
   ]
  },
  {
   "cell_type": "markdown",
   "metadata": {},
   "source": [
    "3. Составьте 2 множества - в одном будут слова, которые встречаются только в положительных отзывах, а в другом - встречающиеся только в отрицательных. Попробуйте поиграть с частотностями и исключить шум (к примеру, выбросить слова, встречающиеся 1-2 раза) (2 балла) (если у вас получились пустые множества, уберите фильтр по частотности или увеличьте выборку)"
   ]
  },
  {
   "cell_type": "code",
   "execution_count": 71,
   "metadata": {},
   "outputs": [
    {
     "name": "stdout",
     "output_type": "stream",
     "text": [
      "680 training reviews\n",
      "85 validation reviews\n",
      "86 testing reviews\n"
     ]
    }
   ],
   "source": [
    "from sklearn.model_selection import train_test_split\n",
    "\n",
    "X_train, X_val_test, y_train, y_val_test = train_test_split(\n",
    "    rev_df[['text', 'prep_text']], rev_df[['target']], test_size=0.2, random_state=42)\n",
    "\n",
    "X_val, X_test, y_val, y_test = train_test_split(\n",
    "    X_val_test, y_val_test, test_size=0.5, random_state=42)\n",
    "\n",
    "print(len(X_train), 'training reviews')\n",
    "print(len(X_val), 'validation reviews')\n",
    "print(len(X_test), 'testing reviews')"
   ]
  },
  {
   "cell_type": "code",
   "execution_count": 72,
   "metadata": {},
   "outputs": [],
   "source": [
    "from collections import Counter\n",
    "\n",
    "all_words_good = sum(X_train.loc[y_train['target'] == 1]['prep_text'].tolist(), [])\n",
    "all_words_bad = sum(X_train.loc[y_train['target'] == 0]['prep_text'].tolist(), [])\n",
    "\n",
    "freq_dict_good = Counter(all_words_good)\n",
    "freq_dict_bad = Counter(all_words_bad)"
   ]
  },
  {
   "cell_type": "code",
   "execution_count": 73,
   "metadata": {},
   "outputs": [
    {
     "name": "stdout",
     "output_type": "stream",
     "text": [
      "3872 good-only words\n",
      "1717 bad-only words\n"
     ]
    }
   ],
   "source": [
    "from collections import Counter\n",
    "\n",
    "freq_dict_good = Counter(all_words_good)\n",
    "freq_dict_bad = Counter(all_words_bad)\n",
    "\n",
    "print(len(freq_dict_good), 'good-only words')\n",
    "print(len(freq_dict_bad), 'bad-only words')"
   ]
  },
  {
   "cell_type": "code",
   "execution_count": 74,
   "metadata": {},
   "outputs": [],
   "source": [
    "# take top 10 percent\n",
    "most_freq_good = dict(freq_dict_good.most_common(200)).keys()\n",
    "most_freq_bad = dict(freq_dict_bad.most_common(200)).keys()"
   ]
  },
  {
   "cell_type": "code",
   "execution_count": 75,
   "metadata": {},
   "outputs": [],
   "source": [
    "words_good_only = set(most_freq_good).difference(set(most_freq_bad))\n",
    "words_bad_only = set(most_freq_bad).difference(set(most_freq_good))"
   ]
  },
  {
   "cell_type": "markdown",
   "metadata": {},
   "source": [
    "4. Создайте функцию, которая будет определять, положительный ли отзыв или отрицательный в зависимости от того, какие слова встретились в нём, и посчитайте качество при помощи accuracy (1  - за коректно работающую функцию, 1 - за подсчёт accuracy)"
   ]
  },
  {
   "cell_type": "code",
   "execution_count": 76,
   "metadata": {},
   "outputs": [],
   "source": [
    "def predict(text, preprocess=True, return_proba=False):\n",
    "    \n",
    "    if preprocess:\n",
    "        prep_text = preprocess_text(text)\n",
    "    try:\n",
    "        good_proba = sum([word in words_good_only for word in prep_text]) / len(prep_text)\n",
    "    except ZeroDivisionError:\n",
    "        good_proba = 0\n",
    "       \n",
    "    try:\n",
    "        bad_proba = sum([word in words_bad_only for word in prep_text]) / len(prep_text)\n",
    "    except ZeroDivisionError:\n",
    "        bad_proba = 0\n",
    "        \n",
    "    proba_dic = {1: good_proba, 0: bad_proba}\n",
    "    \n",
    "    if return_proba:\n",
    "        return proba_dic\n",
    "    else:\n",
    "        return max(proba_dic, key=proba_dic.get)"
   ]
  },
  {
   "cell_type": "code",
   "execution_count": 77,
   "metadata": {},
   "outputs": [
    {
     "name": "stdout",
     "output_type": "stream",
     "text": [
      "train accuracy: 0.8205882352941176\n",
      "val accuracy: 0.8470588235294118\n"
     ]
    }
   ],
   "source": [
    "from sklearn.metrics import accuracy_score\n",
    "\n",
    "y_train_pred = X_train['text'].apply(predict)\n",
    "y_val_pred = X_val['text'].apply(predict)\n",
    "\n",
    "print('train accuracy:', accuracy_score(y_train, y_train_pred))\n",
    "print('val accuracy:', accuracy_score(y_val, y_val_pred))"
   ]
  },
  {
   "cell_type": "code",
   "execution_count": 78,
   "metadata": {},
   "outputs": [
    {
     "name": "stdout",
     "output_type": "stream",
     "text": [
      "              precision    recall  f1-score   support\n",
      "\n",
      "         BAD       0.00      0.00      0.00        13\n",
      "        GOOD       0.85      1.00      0.92        72\n",
      "\n",
      "    accuracy                           0.85        85\n",
      "   macro avg       0.42      0.50      0.46        85\n",
      "weighted avg       0.72      0.85      0.78        85\n",
      "\n"
     ]
    },
    {
     "name": "stderr",
     "output_type": "stream",
     "text": [
      "/Users/shikunova/opt/anaconda3/lib/python3.8/site-packages/sklearn/metrics/_classification.py:1245: UndefinedMetricWarning: Precision and F-score are ill-defined and being set to 0.0 in labels with no predicted samples. Use `zero_division` parameter to control this behavior.\n",
      "  _warn_prf(average, modifier, msg_start, len(result))\n",
      "/Users/shikunova/opt/anaconda3/lib/python3.8/site-packages/sklearn/metrics/_classification.py:1245: UndefinedMetricWarning: Precision and F-score are ill-defined and being set to 0.0 in labels with no predicted samples. Use `zero_division` parameter to control this behavior.\n",
      "  _warn_prf(average, modifier, msg_start, len(result))\n",
      "/Users/shikunova/opt/anaconda3/lib/python3.8/site-packages/sklearn/metrics/_classification.py:1245: UndefinedMetricWarning: Precision and F-score are ill-defined and being set to 0.0 in labels with no predicted samples. Use `zero_division` parameter to control this behavior.\n",
      "  _warn_prf(average, modifier, msg_start, len(result))\n"
     ]
    }
   ],
   "source": [
    "# the dataset is imbalanced, so i want to check the bigger picture\n",
    "from sklearn.metrics import classification_report\n",
    "from sklearn.metrics import f1_score\n",
    "\n",
    "print(classification_report(y_val, y_val_pred, target_names=['BAD', 'GOOD']))"
   ]
  },
  {
   "cell_type": "markdown",
   "metadata": {},
   "source": [
    "5. Предложите как минимум 2 способа улучшить эту программу с помощью добавления к ней любых мулек (1 балл за описание словами, 2 - если реализуете хотя бы один способ)\n",
    "\n",
    "В случае, если после долгих мучений в п. 3 множества по объективным причинам не получается (покажите, что пытались) - отправляйте жабу - зачтём полный балл"
   ]
  },
  {
   "cell_type": "markdown",
   "metadata": {
    "tags": []
   },
   "source": [
    "## Мулька 1\n",
    "\n",
    "Оптимизация: подберем оптимальные гиперпараметры нашего классификатора"
   ]
  },
  {
   "cell_type": "code",
   "execution_count": 81,
   "metadata": {},
   "outputs": [],
   "source": [
    "import optuna\n",
    "\n",
    "def objective(trial):\n",
    "    \n",
    "    # top N words in a freq dict parameter\n",
    "    top_good = trial.suggest_int('top_good', 10, 1000)\n",
    "    top_bad = trial.suggest_int('top_bad', 10, 1000)\n",
    "    \n",
    "    most_freq_good = dict(freq_dict_good.most_common(top_good)).keys()\n",
    "    most_freq_bad = dict(freq_dict_bad.most_common(top_bad)).keys()\n",
    "    \n",
    "    words_good_only = set(most_freq_good).difference(set(most_freq_bad))\n",
    "    words_bad_only = set(most_freq_bad).difference(set(most_freq_good))\n",
    "    \n",
    "    y_val_pred = X_val['text'].apply(predict)\n",
    "    \n",
    "    return accuracy_score(y_val, y_val_pred)\n",
    "\n",
    "def tune(objective):\n",
    "    study = optuna.create_study(direction=\"maximize\")\n",
    "    study.optimize(objective, n_trials=20)\n",
    "    \n",
    "    params = study.best_params\n",
    "    best_score = study.best_value\n",
    "    \n",
    "    print(f\"best score: {best_score}\\n\")\n",
    "    print(f\"best parameters: {params}\\n\")\n",
    "    \n",
    "    return params"
   ]
  },
  {
   "cell_type": "code",
   "execution_count": 82,
   "metadata": {
    "scrolled": true,
    "tags": []
   },
   "outputs": [
    {
     "name": "stderr",
     "output_type": "stream",
     "text": [
      "\u001b[32m[I 2022-09-20 11:05:12,975]\u001b[0m A new study created in memory with name: no-name-5382c976-196b-4ba2-8a3a-08b2f6d55ff7\u001b[0m\n",
      "\u001b[32m[I 2022-09-20 11:05:13,038]\u001b[0m Trial 0 finished with value: 0.8470588235294118 and parameters: {'top_good': 360, 'top_bad': 299}. Best is trial 0 with value: 0.8470588235294118.\u001b[0m\n",
      "\u001b[32m[I 2022-09-20 11:05:13,077]\u001b[0m Trial 1 finished with value: 0.8470588235294118 and parameters: {'top_good': 204, 'top_bad': 839}. Best is trial 0 with value: 0.8470588235294118.\u001b[0m\n",
      "\u001b[32m[I 2022-09-20 11:05:13,111]\u001b[0m Trial 2 finished with value: 0.8470588235294118 and parameters: {'top_good': 280, 'top_bad': 567}. Best is trial 0 with value: 0.8470588235294118.\u001b[0m\n",
      "\u001b[32m[I 2022-09-20 11:05:13,146]\u001b[0m Trial 3 finished with value: 0.8470588235294118 and parameters: {'top_good': 193, 'top_bad': 308}. Best is trial 0 with value: 0.8470588235294118.\u001b[0m\n",
      "\u001b[32m[I 2022-09-20 11:05:13,180]\u001b[0m Trial 4 finished with value: 0.8470588235294118 and parameters: {'top_good': 979, 'top_bad': 882}. Best is trial 0 with value: 0.8470588235294118.\u001b[0m\n",
      "\u001b[32m[I 2022-09-20 11:05:13,215]\u001b[0m Trial 5 finished with value: 0.8470588235294118 and parameters: {'top_good': 301, 'top_bad': 374}. Best is trial 0 with value: 0.8470588235294118.\u001b[0m\n",
      "\u001b[32m[I 2022-09-20 11:05:13,250]\u001b[0m Trial 6 finished with value: 0.8470588235294118 and parameters: {'top_good': 732, 'top_bad': 666}. Best is trial 0 with value: 0.8470588235294118.\u001b[0m\n",
      "\u001b[32m[I 2022-09-20 11:05:13,287]\u001b[0m Trial 7 finished with value: 0.8470588235294118 and parameters: {'top_good': 975, 'top_bad': 555}. Best is trial 0 with value: 0.8470588235294118.\u001b[0m\n",
      "\u001b[32m[I 2022-09-20 11:05:13,320]\u001b[0m Trial 8 finished with value: 0.8470588235294118 and parameters: {'top_good': 442, 'top_bad': 374}. Best is trial 0 with value: 0.8470588235294118.\u001b[0m\n",
      "\u001b[32m[I 2022-09-20 11:05:13,353]\u001b[0m Trial 9 finished with value: 0.8470588235294118 and parameters: {'top_good': 255, 'top_bad': 151}. Best is trial 0 with value: 0.8470588235294118.\u001b[0m\n",
      "\u001b[32m[I 2022-09-20 11:05:13,395]\u001b[0m Trial 10 finished with value: 0.8470588235294118 and parameters: {'top_good': 35, 'top_bad': 30}. Best is trial 0 with value: 0.8470588235294118.\u001b[0m\n",
      "\u001b[32m[I 2022-09-20 11:05:13,444]\u001b[0m Trial 11 finished with value: 0.8470588235294118 and parameters: {'top_good': 610, 'top_bad': 905}. Best is trial 0 with value: 0.8470588235294118.\u001b[0m\n",
      "\u001b[32m[I 2022-09-20 11:05:13,486]\u001b[0m Trial 12 finished with value: 0.8470588235294118 and parameters: {'top_good': 445, 'top_bad': 732}. Best is trial 0 with value: 0.8470588235294118.\u001b[0m\n",
      "\u001b[32m[I 2022-09-20 11:05:13,533]\u001b[0m Trial 13 finished with value: 0.8470588235294118 and parameters: {'top_good': 14, 'top_bad': 229}. Best is trial 0 with value: 0.8470588235294118.\u001b[0m\n",
      "\u001b[32m[I 2022-09-20 11:05:13,571]\u001b[0m Trial 14 finished with value: 0.8470588235294118 and parameters: {'top_good': 578, 'top_bad': 991}. Best is trial 0 with value: 0.8470588235294118.\u001b[0m\n",
      "\u001b[32m[I 2022-09-20 11:05:13,608]\u001b[0m Trial 15 finished with value: 0.8470588235294118 and parameters: {'top_good': 146, 'top_bad': 733}. Best is trial 0 with value: 0.8470588235294118.\u001b[0m\n",
      "\u001b[32m[I 2022-09-20 11:05:13,648]\u001b[0m Trial 16 finished with value: 0.8470588235294118 and parameters: {'top_good': 441, 'top_bad': 456}. Best is trial 0 with value: 0.8470588235294118.\u001b[0m\n",
      "\u001b[32m[I 2022-09-20 11:05:13,691]\u001b[0m Trial 17 finished with value: 0.8470588235294118 and parameters: {'top_good': 643, 'top_bad': 136}. Best is trial 0 with value: 0.8470588235294118.\u001b[0m\n",
      "\u001b[32m[I 2022-09-20 11:05:13,736]\u001b[0m Trial 18 finished with value: 0.8470588235294118 and parameters: {'top_good': 346, 'top_bad': 669}. Best is trial 0 with value: 0.8470588235294118.\u001b[0m\n",
      "\u001b[32m[I 2022-09-20 11:05:13,790]\u001b[0m Trial 19 finished with value: 0.8470588235294118 and parameters: {'top_good': 721, 'top_bad': 451}. Best is trial 0 with value: 0.8470588235294118.\u001b[0m\n"
     ]
    },
    {
     "name": "stdout",
     "output_type": "stream",
     "text": [
      "best score: 0.8470588235294118\n",
      "\n",
      "best parameters: {'top_good': 360, 'top_bad': 299}\n",
      "\n"
     ]
    },
    {
     "data": {
      "text/plain": [
       "{'top_good': 360, 'top_bad': 299}"
      ]
     },
     "execution_count": 82,
     "metadata": {},
     "output_type": "execute_result"
    }
   ],
   "source": [
    "tune(objective)"
   ]
  },
  {
   "cell_type": "code",
   "execution_count": 83,
   "metadata": {},
   "outputs": [],
   "source": [
    "most_freq_good = dict(freq_dict_good.most_common(360)).keys()\n",
    "most_freq_bad = dict(freq_dict_bad.most_common(299)).keys()\n",
    "    \n",
    "words_good_only = set(most_freq_good).difference(set(most_freq_bad))\n",
    "words_bad_only = set(most_freq_bad).difference(set(most_freq_good))"
   ]
  },
  {
   "cell_type": "markdown",
   "metadata": {},
   "source": [
    "## Мулька 2\n",
    "\n",
    "Векторизация: удалим стоп-слова и превратим наши отзывы в векторы с помощью tf-idf"
   ]
  },
  {
   "cell_type": "code",
   "execution_count": 21,
   "metadata": {},
   "outputs": [],
   "source": [
    "from nltk.corpus import stopwords\n",
    "\n",
    "stops = stopwords.words('english')\n",
    "\n",
    "# change the preprocessing function a little bit\n",
    "def preprocess_text(s, return_list=False, remove_stops=True):\n",
    "    tokens = wordpunct_tokenize(s.lower())\n",
    "    lemmas = []\n",
    "    for token in tokens:\n",
    "        if not (all([char in string.punctuation+'!….' for char in token]) or \n",
    "                all([char.isdigit() for char in token]))\\\n",
    "           and not (remove_stops and token in stops):\n",
    "            lemmas.append(token)\n",
    "        \n",
    "    if return_list:   \n",
    "        return lemmas\n",
    "    else:\n",
    "        return ' '.join(lemmas)"
   ]
  },
  {
   "cell_type": "code",
   "execution_count": 22,
   "metadata": {},
   "outputs": [
    {
     "data": {
      "text/plain": [
       "'love trains much'"
      ]
     },
     "execution_count": 22,
     "metadata": {},
     "output_type": "execute_result"
    }
   ],
   "source": [
    "preprocess_text('i LOVE trains so much!!! :333', return_list=False)"
   ]
  },
  {
   "cell_type": "code",
   "execution_count": 23,
   "metadata": {},
   "outputs": [
    {
     "name": "stderr",
     "output_type": "stream",
     "text": [
      "100%|██████████| 851/851 [00:00<00:00, 2723.54it/s]\n"
     ]
    }
   ],
   "source": [
    "rev_df['text_for_vec'] = rev_df['text'].progress_apply(preprocess_text)"
   ]
  },
  {
   "cell_type": "code",
   "execution_count": 54,
   "metadata": {},
   "outputs": [
    {
     "name": "stdout",
     "output_type": "stream",
     "text": [
      "680 training reviews\n",
      "85 validation reviews\n",
      "86 testing reviews\n"
     ]
    }
   ],
   "source": [
    "from sklearn.feature_extraction.text import TfidfVectorizer\n",
    "\n",
    "vectorizer = TfidfVectorizer()\n",
    "X = vectorizer.fit_transform(rev_df['text_for_vec'])\n",
    "\n",
    "X_train, X_val_test, y_train, y_val_test = train_test_split(\n",
    "    X.todense(), rev_df[['target']], test_size=0.2, random_state=42)\n",
    "\n",
    "X_val, X_test, y_val, y_test = train_test_split(\n",
    "    X_val_test, y_val_test, test_size=0.5, random_state=42)\n",
    "\n",
    "print(len(X_train), 'training reviews')\n",
    "print(len(X_val), 'validation reviews')\n",
    "print(len(X_test), 'testing reviews')"
   ]
  },
  {
   "cell_type": "code",
   "execution_count": 55,
   "metadata": {
    "tags": []
   },
   "outputs": [
    {
     "name": "stdout",
     "output_type": "stream",
     "text": [
      "train f1: 0.9073170731707317\n",
      "val f1: 0.9171974522292993\n"
     ]
    },
    {
     "name": "stderr",
     "output_type": "stream",
     "text": [
      "/Users/shikunova/opt/anaconda3/lib/python3.8/site-packages/sklearn/utils/validation.py:63: DataConversionWarning: A column-vector y was passed when a 1d array was expected. Please change the shape of y to (n_samples, ), for example using ravel().\n",
      "  return f(*args, **kwargs)\n"
     ]
    }
   ],
   "source": [
    "from sklearn.linear_model import LogisticRegression\n",
    "\n",
    "logreg = LogisticRegression().fit(X_train, y_train)\n",
    "\n",
    "y_train_pred = logreg.predict(X_train)\n",
    "y_val_pred = logreg.predict(X_val)\n",
    "\n",
    "print('train f1:', f1_score(y_train, y_train_pred))\n",
    "print('val f1:', f1_score(y_val, y_val_pred))"
   ]
  },
  {
   "cell_type": "markdown",
   "metadata": {},
   "source": [
    "Сейчас мы будем все оптимизировать"
   ]
  },
  {
   "cell_type": "code",
   "execution_count": 56,
   "metadata": {},
   "outputs": [
    {
     "name": "stdout",
     "output_type": "stream",
     "text": [
      "680 training reviews\n",
      "85 validation reviews\n",
      "86 testing reviews\n"
     ]
    }
   ],
   "source": [
    "X_train, X_val_test, y_train, y_val_test = train_test_split(\n",
    "    rev_df['text_for_vec'], rev_df['target'], test_size=0.2, random_state=42)\n",
    "\n",
    "X_val, X_test, y_val, y_test = train_test_split(\n",
    "    X_val_test, y_val_test, test_size=0.5, random_state=42)\n",
    "\n",
    "print(len(X_train), 'training reviews')\n",
    "print(len(X_val), 'validation reviews')\n",
    "print(len(X_test), 'testing reviews')"
   ]
  },
  {
   "cell_type": "code",
   "execution_count": 57,
   "metadata": {},
   "outputs": [],
   "source": [
    "from sklearn.pipeline import Pipeline\n",
    "\n",
    "pipe = Pipeline([\n",
    "    ('tfidf', TfidfVectorizer()),\n",
    "    ('logreg', LogisticRegression())\n",
    "])\n",
    "\n",
    "pipe.fit(X_train, y_train)\n",
    "\n",
    "def objective(trial):\n",
    "    \n",
    "    params = {\n",
    "        'tfidf__min_df': trial.suggest_float('tfidf__min_df', 0, 1),\n",
    "        'tfidf__max_df': trial.suggest_float('tfidf__max_df', 0, 1),\n",
    "        'logreg__C': trial.suggest_float('logreg__C', 0, 1)\n",
    "    }\n",
    "    \n",
    "    pipe.set_params(**params)\n",
    "    y_val_pred = pipe.predict(X_val)\n",
    "    score = f1_score(y_val, y_val_pred)\n",
    "    \n",
    "    return score\n",
    "\n",
    "def tune(objective):\n",
    "    study = optuna.create_study(direction=\"maximize\")\n",
    "    study.optimize(objective, n_trials=20)\n",
    "    \n",
    "    params = study.best_params\n",
    "    best_score = study.best_value\n",
    "    \n",
    "    print(f\"best score: {best_score}\\n\")\n",
    "    print(f\"best parameters: {params}\\n\")\n",
    "    \n",
    "    return params"
   ]
  },
  {
   "cell_type": "code",
   "execution_count": 58,
   "metadata": {
    "scrolled": true,
    "tags": []
   },
   "outputs": [
    {
     "name": "stderr",
     "output_type": "stream",
     "text": [
      "\u001b[32m[I 2022-09-20 09:20:15,691]\u001b[0m A new study created in memory with name: no-name-cb382b49-f005-48e6-a6df-f1201ce65b87\u001b[0m\n",
      "\u001b[32m[I 2022-09-20 09:20:15,708]\u001b[0m Trial 0 finished with value: 0.9171974522292993 and parameters: {'tfidf__min_df': 0.8284017690356297, 'tfidf__max_df': 0.39378673689692856, 'logreg__C': 0.6616650798024404}. Best is trial 0 with value: 0.9171974522292993.\u001b[0m\n",
      "\u001b[32m[I 2022-09-20 09:20:15,721]\u001b[0m Trial 1 finished with value: 0.9171974522292993 and parameters: {'tfidf__min_df': 0.13087591061356918, 'tfidf__max_df': 0.36120218208289245, 'logreg__C': 0.2979529210106039}. Best is trial 0 with value: 0.9171974522292993.\u001b[0m\n",
      "\u001b[32m[I 2022-09-20 09:20:15,736]\u001b[0m Trial 2 finished with value: 0.9171974522292993 and parameters: {'tfidf__min_df': 0.46023603021738557, 'tfidf__max_df': 0.14930604356748678, 'logreg__C': 0.5815783842105223}. Best is trial 0 with value: 0.9171974522292993.\u001b[0m\n",
      "\u001b[32m[I 2022-09-20 09:20:15,747]\u001b[0m Trial 3 finished with value: 0.9171974522292993 and parameters: {'tfidf__min_df': 0.9018502878400665, 'tfidf__max_df': 0.4425618473419828, 'logreg__C': 0.4151077125894923}. Best is trial 0 with value: 0.9171974522292993.\u001b[0m\n",
      "\u001b[32m[I 2022-09-20 09:20:15,755]\u001b[0m Trial 4 finished with value: 0.9171974522292993 and parameters: {'tfidf__min_df': 0.36462091726691714, 'tfidf__max_df': 0.6915128292454903, 'logreg__C': 0.6295128279700073}. Best is trial 0 with value: 0.9171974522292993.\u001b[0m\n",
      "\u001b[32m[I 2022-09-20 09:20:15,765]\u001b[0m Trial 5 finished with value: 0.9171974522292993 and parameters: {'tfidf__min_df': 0.16863904650387862, 'tfidf__max_df': 0.74025004882857, 'logreg__C': 0.6434000933717828}. Best is trial 0 with value: 0.9171974522292993.\u001b[0m\n",
      "\u001b[32m[I 2022-09-20 09:20:15,775]\u001b[0m Trial 6 finished with value: 0.9171974522292993 and parameters: {'tfidf__min_df': 0.5377978458497462, 'tfidf__max_df': 0.9485649860494688, 'logreg__C': 0.3632716425819026}. Best is trial 0 with value: 0.9171974522292993.\u001b[0m\n",
      "\u001b[32m[I 2022-09-20 09:20:15,783]\u001b[0m Trial 7 finished with value: 0.9171974522292993 and parameters: {'tfidf__min_df': 0.3786429813805693, 'tfidf__max_df': 0.6645633225133335, 'logreg__C': 0.2121619050093998}. Best is trial 0 with value: 0.9171974522292993.\u001b[0m\n",
      "\u001b[32m[I 2022-09-20 09:20:15,792]\u001b[0m Trial 8 finished with value: 0.9171974522292993 and parameters: {'tfidf__min_df': 0.7954119758889484, 'tfidf__max_df': 0.20192035367486982, 'logreg__C': 0.836365295767567}. Best is trial 0 with value: 0.9171974522292993.\u001b[0m\n",
      "\u001b[32m[I 2022-09-20 09:20:15,804]\u001b[0m Trial 9 finished with value: 0.9171974522292993 and parameters: {'tfidf__min_df': 0.5212443906653543, 'tfidf__max_df': 0.8928134967072022, 'logreg__C': 0.5588823414039225}. Best is trial 0 with value: 0.9171974522292993.\u001b[0m\n",
      "\u001b[32m[I 2022-09-20 09:20:15,823]\u001b[0m Trial 10 finished with value: 0.9171974522292993 and parameters: {'tfidf__min_df': 0.7639521149756914, 'tfidf__max_df': 0.06301743637652701, 'logreg__C': 0.9731820178711784}. Best is trial 0 with value: 0.9171974522292993.\u001b[0m\n",
      "\u001b[32m[I 2022-09-20 09:20:15,839]\u001b[0m Trial 11 finished with value: 0.9171974522292993 and parameters: {'tfidf__min_df': 0.008156371818938468, 'tfidf__max_df': 0.3475600573269871, 'logreg__C': 0.023087093923218116}. Best is trial 0 with value: 0.9171974522292993.\u001b[0m\n",
      "\u001b[32m[I 2022-09-20 09:20:15,857]\u001b[0m Trial 12 finished with value: 0.9171974522292993 and parameters: {'tfidf__min_df': 0.98008664410119, 'tfidf__max_df': 0.32206229561771593, 'logreg__C': 0.23336303835539246}. Best is trial 0 with value: 0.9171974522292993.\u001b[0m\n",
      "\u001b[32m[I 2022-09-20 09:20:15,874]\u001b[0m Trial 13 finished with value: 0.9171974522292993 and parameters: {'tfidf__min_df': 0.6866771279832573, 'tfidf__max_df': 0.506577187809881, 'logreg__C': 0.8180211211287154}. Best is trial 0 with value: 0.9171974522292993.\u001b[0m\n",
      "\u001b[32m[I 2022-09-20 09:20:15,891]\u001b[0m Trial 14 finished with value: 0.9171974522292993 and parameters: {'tfidf__min_df': 0.1977707720766166, 'tfidf__max_df': 0.5261154446675643, 'logreg__C': 0.28980689813438354}. Best is trial 0 with value: 0.9171974522292993.\u001b[0m\n",
      "\u001b[32m[I 2022-09-20 09:20:15,907]\u001b[0m Trial 15 finished with value: 0.9171974522292993 and parameters: {'tfidf__min_df': 0.0022171426393873817, 'tfidf__max_df': 0.3005981085278372, 'logreg__C': 0.09912542389059126}. Best is trial 0 with value: 0.9171974522292993.\u001b[0m\n",
      "\u001b[32m[I 2022-09-20 09:20:15,924]\u001b[0m Trial 16 finished with value: 0.9171974522292993 and parameters: {'tfidf__min_df': 0.6647066370436447, 'tfidf__max_df': 0.4184770026662461, 'logreg__C': 0.44332380493959256}. Best is trial 0 with value: 0.9171974522292993.\u001b[0m\n",
      "\u001b[32m[I 2022-09-20 09:20:15,943]\u001b[0m Trial 17 finished with value: 0.9171974522292993 and parameters: {'tfidf__min_df': 0.2656160357749541, 'tfidf__max_df': 0.5455068126616341, 'logreg__C': 0.7456060179126084}. Best is trial 0 with value: 0.9171974522292993.\u001b[0m\n",
      "\u001b[32m[I 2022-09-20 09:20:15,959]\u001b[0m Trial 18 finished with value: 0.9171974522292993 and parameters: {'tfidf__min_df': 0.04481419668938502, 'tfidf__max_df': 0.23592260899536543, 'logreg__C': 0.08111602953875918}. Best is trial 0 with value: 0.9171974522292993.\u001b[0m\n",
      "\u001b[32m[I 2022-09-20 09:20:15,975]\u001b[0m Trial 19 finished with value: 0.9171974522292993 and parameters: {'tfidf__min_df': 0.6385138547456242, 'tfidf__max_df': 0.02590287951383652, 'logreg__C': 0.45842388557558705}. Best is trial 0 with value: 0.9171974522292993.\u001b[0m\n"
     ]
    },
    {
     "name": "stdout",
     "output_type": "stream",
     "text": [
      "best score: 0.9171974522292993\n",
      "\n",
      "best parameters: {'tfidf__min_df': 0.8284017690356297, 'tfidf__max_df': 0.39378673689692856, 'logreg__C': 0.6616650798024404}\n",
      "\n"
     ]
    }
   ],
   "source": [
    "best_params = tune(objective)"
   ]
  },
  {
   "cell_type": "code",
   "execution_count": 59,
   "metadata": {},
   "outputs": [
    {
     "name": "stdout",
     "output_type": "stream",
     "text": [
      "train f1: 0.9080553295362083\n",
      "val f1: 0.9171974522292993\n"
     ]
    }
   ],
   "source": [
    "pipe.set_params(**best_params)\n",
    "\n",
    "y_train_pred = pipe.predict(X_train)\n",
    "y_val_pred = pipe.predict(X_val)\n",
    "\n",
    "print('train f1:', f1_score(y_train, y_train_pred))\n",
    "print('val f1:', f1_score(y_val, y_val_pred))"
   ]
  },
  {
   "cell_type": "markdown",
   "metadata": {},
   "source": [
    "# Итоги\n",
    "\n",
    "Проверим все наши мульки на тестовом датасете и выберем лучшую"
   ]
  },
  {
   "cell_type": "code",
   "execution_count": null,
   "metadata": {},
   "outputs": [],
   "source": [
    "for pred in []"
   ]
  }
 ],
 "metadata": {
  "colab": {
   "authorship_tag": "ABX9TyOhO9ANVm4SXK9q5vI0e+E4",
   "collapsed_sections": [],
   "name": "Hometask 1.ipynb",
   "provenance": []
  },
  "kernelspec": {
   "display_name": "Python 3",
   "language": "python",
   "name": "python3"
  },
  "language_info": {
   "codemirror_mode": {
    "name": "ipython",
    "version": 3
   },
   "file_extension": ".py",
   "mimetype": "text/x-python",
   "name": "python",
   "nbconvert_exporter": "python",
   "pygments_lexer": "ipython3",
   "version": "3.8.8"
  }
 },
 "nbformat": 4,
 "nbformat_minor": 4
}
