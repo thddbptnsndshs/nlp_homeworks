{
  "nbformat": 4,
  "nbformat_minor": 0,
  "metadata": {
    "colab": {
      "provenance": [],
      "gpuType": "T4"
    },
    "kernelspec": {
      "name": "python3",
      "display_name": "Python 3"
    },
    "language_info": {
      "name": "python"
    },
    "accelerator": "GPU",
    "widgets": {
      "application/vnd.jupyter.widget-state+json": {
        "c07e47238b51483489979a906bdd4b52": {
          "model_module": "@jupyter-widgets/controls",
          "model_name": "HBoxModel",
          "model_module_version": "1.5.0",
          "state": {
            "_dom_classes": [],
            "_model_module": "@jupyter-widgets/controls",
            "_model_module_version": "1.5.0",
            "_model_name": "HBoxModel",
            "_view_count": null,
            "_view_module": "@jupyter-widgets/controls",
            "_view_module_version": "1.5.0",
            "_view_name": "HBoxView",
            "box_style": "",
            "children": [
              "IPY_MODEL_999366c55e114ec48b19e95427fdecea",
              "IPY_MODEL_3805fde5464048f3adbbdc13f28fb88f",
              "IPY_MODEL_642e598e3c34487ba4c4b3a6bbfdcc38"
            ],
            "layout": "IPY_MODEL_458482528c304a618f0de744d184be22"
          }
        },
        "999366c55e114ec48b19e95427fdecea": {
          "model_module": "@jupyter-widgets/controls",
          "model_name": "HTMLModel",
          "model_module_version": "1.5.0",
          "state": {
            "_dom_classes": [],
            "_model_module": "@jupyter-widgets/controls",
            "_model_module_version": "1.5.0",
            "_model_name": "HTMLModel",
            "_view_count": null,
            "_view_module": "@jupyter-widgets/controls",
            "_view_module_version": "1.5.0",
            "_view_name": "HTMLView",
            "description": "",
            "description_tooltip": null,
            "layout": "IPY_MODEL_b387449d6d4e48b792a9e3d68e841866",
            "placeholder": "​",
            "style": "IPY_MODEL_53159d1df7754574b446b6bbc1b70d01",
            "value": "config.json: 100%"
          }
        },
        "3805fde5464048f3adbbdc13f28fb88f": {
          "model_module": "@jupyter-widgets/controls",
          "model_name": "FloatProgressModel",
          "model_module_version": "1.5.0",
          "state": {
            "_dom_classes": [],
            "_model_module": "@jupyter-widgets/controls",
            "_model_module_version": "1.5.0",
            "_model_name": "FloatProgressModel",
            "_view_count": null,
            "_view_module": "@jupyter-widgets/controls",
            "_view_module_version": "1.5.0",
            "_view_name": "ProgressView",
            "bar_style": "success",
            "description": "",
            "description_tooltip": null,
            "layout": "IPY_MODEL_53f38c8a6f414a0fbc43b985160acebf",
            "max": 1596,
            "min": 0,
            "orientation": "horizontal",
            "style": "IPY_MODEL_03360b13d14f49b0a3c9d8acbe92f9a7",
            "value": 1596
          }
        },
        "642e598e3c34487ba4c4b3a6bbfdcc38": {
          "model_module": "@jupyter-widgets/controls",
          "model_name": "HTMLModel",
          "model_module_version": "1.5.0",
          "state": {
            "_dom_classes": [],
            "_model_module": "@jupyter-widgets/controls",
            "_model_module_version": "1.5.0",
            "_model_name": "HTMLModel",
            "_view_count": null,
            "_view_module": "@jupyter-widgets/controls",
            "_view_module_version": "1.5.0",
            "_view_name": "HTMLView",
            "description": "",
            "description_tooltip": null,
            "layout": "IPY_MODEL_82fbf1f70c7a431f9491c774f201045a",
            "placeholder": "​",
            "style": "IPY_MODEL_7d4be8de7d9e45bba38b3a43556e3f66",
            "value": " 1.60k/1.60k [00:00&lt;00:00, 96.5kB/s]"
          }
        },
        "458482528c304a618f0de744d184be22": {
          "model_module": "@jupyter-widgets/base",
          "model_name": "LayoutModel",
          "model_module_version": "1.2.0",
          "state": {
            "_model_module": "@jupyter-widgets/base",
            "_model_module_version": "1.2.0",
            "_model_name": "LayoutModel",
            "_view_count": null,
            "_view_module": "@jupyter-widgets/base",
            "_view_module_version": "1.2.0",
            "_view_name": "LayoutView",
            "align_content": null,
            "align_items": null,
            "align_self": null,
            "border": null,
            "bottom": null,
            "display": null,
            "flex": null,
            "flex_flow": null,
            "grid_area": null,
            "grid_auto_columns": null,
            "grid_auto_flow": null,
            "grid_auto_rows": null,
            "grid_column": null,
            "grid_gap": null,
            "grid_row": null,
            "grid_template_areas": null,
            "grid_template_columns": null,
            "grid_template_rows": null,
            "height": null,
            "justify_content": null,
            "justify_items": null,
            "left": null,
            "margin": null,
            "max_height": null,
            "max_width": null,
            "min_height": null,
            "min_width": null,
            "object_fit": null,
            "object_position": null,
            "order": null,
            "overflow": null,
            "overflow_x": null,
            "overflow_y": null,
            "padding": null,
            "right": null,
            "top": null,
            "visibility": null,
            "width": null
          }
        },
        "b387449d6d4e48b792a9e3d68e841866": {
          "model_module": "@jupyter-widgets/base",
          "model_name": "LayoutModel",
          "model_module_version": "1.2.0",
          "state": {
            "_model_module": "@jupyter-widgets/base",
            "_model_module_version": "1.2.0",
            "_model_name": "LayoutModel",
            "_view_count": null,
            "_view_module": "@jupyter-widgets/base",
            "_view_module_version": "1.2.0",
            "_view_name": "LayoutView",
            "align_content": null,
            "align_items": null,
            "align_self": null,
            "border": null,
            "bottom": null,
            "display": null,
            "flex": null,
            "flex_flow": null,
            "grid_area": null,
            "grid_auto_columns": null,
            "grid_auto_flow": null,
            "grid_auto_rows": null,
            "grid_column": null,
            "grid_gap": null,
            "grid_row": null,
            "grid_template_areas": null,
            "grid_template_columns": null,
            "grid_template_rows": null,
            "height": null,
            "justify_content": null,
            "justify_items": null,
            "left": null,
            "margin": null,
            "max_height": null,
            "max_width": null,
            "min_height": null,
            "min_width": null,
            "object_fit": null,
            "object_position": null,
            "order": null,
            "overflow": null,
            "overflow_x": null,
            "overflow_y": null,
            "padding": null,
            "right": null,
            "top": null,
            "visibility": null,
            "width": null
          }
        },
        "53159d1df7754574b446b6bbc1b70d01": {
          "model_module": "@jupyter-widgets/controls",
          "model_name": "DescriptionStyleModel",
          "model_module_version": "1.5.0",
          "state": {
            "_model_module": "@jupyter-widgets/controls",
            "_model_module_version": "1.5.0",
            "_model_name": "DescriptionStyleModel",
            "_view_count": null,
            "_view_module": "@jupyter-widgets/base",
            "_view_module_version": "1.2.0",
            "_view_name": "StyleView",
            "description_width": ""
          }
        },
        "53f38c8a6f414a0fbc43b985160acebf": {
          "model_module": "@jupyter-widgets/base",
          "model_name": "LayoutModel",
          "model_module_version": "1.2.0",
          "state": {
            "_model_module": "@jupyter-widgets/base",
            "_model_module_version": "1.2.0",
            "_model_name": "LayoutModel",
            "_view_count": null,
            "_view_module": "@jupyter-widgets/base",
            "_view_module_version": "1.2.0",
            "_view_name": "LayoutView",
            "align_content": null,
            "align_items": null,
            "align_self": null,
            "border": null,
            "bottom": null,
            "display": null,
            "flex": null,
            "flex_flow": null,
            "grid_area": null,
            "grid_auto_columns": null,
            "grid_auto_flow": null,
            "grid_auto_rows": null,
            "grid_column": null,
            "grid_gap": null,
            "grid_row": null,
            "grid_template_areas": null,
            "grid_template_columns": null,
            "grid_template_rows": null,
            "height": null,
            "justify_content": null,
            "justify_items": null,
            "left": null,
            "margin": null,
            "max_height": null,
            "max_width": null,
            "min_height": null,
            "min_width": null,
            "object_fit": null,
            "object_position": null,
            "order": null,
            "overflow": null,
            "overflow_x": null,
            "overflow_y": null,
            "padding": null,
            "right": null,
            "top": null,
            "visibility": null,
            "width": null
          }
        },
        "03360b13d14f49b0a3c9d8acbe92f9a7": {
          "model_module": "@jupyter-widgets/controls",
          "model_name": "ProgressStyleModel",
          "model_module_version": "1.5.0",
          "state": {
            "_model_module": "@jupyter-widgets/controls",
            "_model_module_version": "1.5.0",
            "_model_name": "ProgressStyleModel",
            "_view_count": null,
            "_view_module": "@jupyter-widgets/base",
            "_view_module_version": "1.2.0",
            "_view_name": "StyleView",
            "bar_color": null,
            "description_width": ""
          }
        },
        "82fbf1f70c7a431f9491c774f201045a": {
          "model_module": "@jupyter-widgets/base",
          "model_name": "LayoutModel",
          "model_module_version": "1.2.0",
          "state": {
            "_model_module": "@jupyter-widgets/base",
            "_model_module_version": "1.2.0",
            "_model_name": "LayoutModel",
            "_view_count": null,
            "_view_module": "@jupyter-widgets/base",
            "_view_module_version": "1.2.0",
            "_view_name": "LayoutView",
            "align_content": null,
            "align_items": null,
            "align_self": null,
            "border": null,
            "bottom": null,
            "display": null,
            "flex": null,
            "flex_flow": null,
            "grid_area": null,
            "grid_auto_columns": null,
            "grid_auto_flow": null,
            "grid_auto_rows": null,
            "grid_column": null,
            "grid_gap": null,
            "grid_row": null,
            "grid_template_areas": null,
            "grid_template_columns": null,
            "grid_template_rows": null,
            "height": null,
            "justify_content": null,
            "justify_items": null,
            "left": null,
            "margin": null,
            "max_height": null,
            "max_width": null,
            "min_height": null,
            "min_width": null,
            "object_fit": null,
            "object_position": null,
            "order": null,
            "overflow": null,
            "overflow_x": null,
            "overflow_y": null,
            "padding": null,
            "right": null,
            "top": null,
            "visibility": null,
            "width": null
          }
        },
        "7d4be8de7d9e45bba38b3a43556e3f66": {
          "model_module": "@jupyter-widgets/controls",
          "model_name": "DescriptionStyleModel",
          "model_module_version": "1.5.0",
          "state": {
            "_model_module": "@jupyter-widgets/controls",
            "_model_module_version": "1.5.0",
            "_model_name": "DescriptionStyleModel",
            "_view_count": null,
            "_view_module": "@jupyter-widgets/base",
            "_view_module_version": "1.2.0",
            "_view_name": "StyleView",
            "description_width": ""
          }
        },
        "de1643056d074b5e83c3ad1c37830a5c": {
          "model_module": "@jupyter-widgets/controls",
          "model_name": "HBoxModel",
          "model_module_version": "1.5.0",
          "state": {
            "_dom_classes": [],
            "_model_module": "@jupyter-widgets/controls",
            "_model_module_version": "1.5.0",
            "_model_name": "HBoxModel",
            "_view_count": null,
            "_view_module": "@jupyter-widgets/controls",
            "_view_module_version": "1.5.0",
            "_view_name": "HBoxView",
            "box_style": "",
            "children": [
              "IPY_MODEL_c90598ee1ab64934a51da11d02c81e94",
              "IPY_MODEL_45058c66c29d49149df93a24469f2cad",
              "IPY_MODEL_a6fdda3803c845ea8fe18746551038ed"
            ],
            "layout": "IPY_MODEL_63794afd1fd4402e9ed217775b601fee"
          }
        },
        "c90598ee1ab64934a51da11d02c81e94": {
          "model_module": "@jupyter-widgets/controls",
          "model_name": "HTMLModel",
          "model_module_version": "1.5.0",
          "state": {
            "_dom_classes": [],
            "_model_module": "@jupyter-widgets/controls",
            "_model_module_version": "1.5.0",
            "_model_name": "HTMLModel",
            "_view_count": null,
            "_view_module": "@jupyter-widgets/controls",
            "_view_module_version": "1.5.0",
            "_view_name": "HTMLView",
            "description": "",
            "description_tooltip": null,
            "layout": "IPY_MODEL_3dececbd235944c79b1a721a49e5c112",
            "placeholder": "​",
            "style": "IPY_MODEL_20e8bf6403994841b6fd45010930dbdd",
            "value": "model.safetensors: 100%"
          }
        },
        "45058c66c29d49149df93a24469f2cad": {
          "model_module": "@jupyter-widgets/controls",
          "model_name": "FloatProgressModel",
          "model_module_version": "1.5.0",
          "state": {
            "_dom_classes": [],
            "_model_module": "@jupyter-widgets/controls",
            "_model_module_version": "1.5.0",
            "_model_name": "FloatProgressModel",
            "_view_count": null,
            "_view_module": "@jupyter-widgets/controls",
            "_view_module_version": "1.5.0",
            "_view_name": "ProgressView",
            "bar_style": "success",
            "description": "",
            "description_tooltip": null,
            "layout": "IPY_MODEL_2355a585d2754be1882ecef2b2fd19c6",
            "max": 377607901,
            "min": 0,
            "orientation": "horizontal",
            "style": "IPY_MODEL_24f177f51e1a441986248c1f3e0b9553",
            "value": 377607901
          }
        },
        "a6fdda3803c845ea8fe18746551038ed": {
          "model_module": "@jupyter-widgets/controls",
          "model_name": "HTMLModel",
          "model_module_version": "1.5.0",
          "state": {
            "_dom_classes": [],
            "_model_module": "@jupyter-widgets/controls",
            "_model_module_version": "1.5.0",
            "_model_name": "HTMLModel",
            "_view_count": null,
            "_view_module": "@jupyter-widgets/controls",
            "_view_module_version": "1.5.0",
            "_view_name": "HTMLView",
            "description": "",
            "description_tooltip": null,
            "layout": "IPY_MODEL_2e3f18b7e0704a35ac882281c74804c0",
            "placeholder": "​",
            "style": "IPY_MODEL_deb99074b19b428c889a65d538b752c7",
            "value": " 378M/378M [00:02&lt;00:00, 193MB/s]"
          }
        },
        "63794afd1fd4402e9ed217775b601fee": {
          "model_module": "@jupyter-widgets/base",
          "model_name": "LayoutModel",
          "model_module_version": "1.2.0",
          "state": {
            "_model_module": "@jupyter-widgets/base",
            "_model_module_version": "1.2.0",
            "_model_name": "LayoutModel",
            "_view_count": null,
            "_view_module": "@jupyter-widgets/base",
            "_view_module_version": "1.2.0",
            "_view_name": "LayoutView",
            "align_content": null,
            "align_items": null,
            "align_self": null,
            "border": null,
            "bottom": null,
            "display": null,
            "flex": null,
            "flex_flow": null,
            "grid_area": null,
            "grid_auto_columns": null,
            "grid_auto_flow": null,
            "grid_auto_rows": null,
            "grid_column": null,
            "grid_gap": null,
            "grid_row": null,
            "grid_template_areas": null,
            "grid_template_columns": null,
            "grid_template_rows": null,
            "height": null,
            "justify_content": null,
            "justify_items": null,
            "left": null,
            "margin": null,
            "max_height": null,
            "max_width": null,
            "min_height": null,
            "min_width": null,
            "object_fit": null,
            "object_position": null,
            "order": null,
            "overflow": null,
            "overflow_x": null,
            "overflow_y": null,
            "padding": null,
            "right": null,
            "top": null,
            "visibility": null,
            "width": null
          }
        },
        "3dececbd235944c79b1a721a49e5c112": {
          "model_module": "@jupyter-widgets/base",
          "model_name": "LayoutModel",
          "model_module_version": "1.2.0",
          "state": {
            "_model_module": "@jupyter-widgets/base",
            "_model_module_version": "1.2.0",
            "_model_name": "LayoutModel",
            "_view_count": null,
            "_view_module": "@jupyter-widgets/base",
            "_view_module_version": "1.2.0",
            "_view_name": "LayoutView",
            "align_content": null,
            "align_items": null,
            "align_self": null,
            "border": null,
            "bottom": null,
            "display": null,
            "flex": null,
            "flex_flow": null,
            "grid_area": null,
            "grid_auto_columns": null,
            "grid_auto_flow": null,
            "grid_auto_rows": null,
            "grid_column": null,
            "grid_gap": null,
            "grid_row": null,
            "grid_template_areas": null,
            "grid_template_columns": null,
            "grid_template_rows": null,
            "height": null,
            "justify_content": null,
            "justify_items": null,
            "left": null,
            "margin": null,
            "max_height": null,
            "max_width": null,
            "min_height": null,
            "min_width": null,
            "object_fit": null,
            "object_position": null,
            "order": null,
            "overflow": null,
            "overflow_x": null,
            "overflow_y": null,
            "padding": null,
            "right": null,
            "top": null,
            "visibility": null,
            "width": null
          }
        },
        "20e8bf6403994841b6fd45010930dbdd": {
          "model_module": "@jupyter-widgets/controls",
          "model_name": "DescriptionStyleModel",
          "model_module_version": "1.5.0",
          "state": {
            "_model_module": "@jupyter-widgets/controls",
            "_model_module_version": "1.5.0",
            "_model_name": "DescriptionStyleModel",
            "_view_count": null,
            "_view_module": "@jupyter-widgets/base",
            "_view_module_version": "1.2.0",
            "_view_name": "StyleView",
            "description_width": ""
          }
        },
        "2355a585d2754be1882ecef2b2fd19c6": {
          "model_module": "@jupyter-widgets/base",
          "model_name": "LayoutModel",
          "model_module_version": "1.2.0",
          "state": {
            "_model_module": "@jupyter-widgets/base",
            "_model_module_version": "1.2.0",
            "_model_name": "LayoutModel",
            "_view_count": null,
            "_view_module": "@jupyter-widgets/base",
            "_view_module_version": "1.2.0",
            "_view_name": "LayoutView",
            "align_content": null,
            "align_items": null,
            "align_self": null,
            "border": null,
            "bottom": null,
            "display": null,
            "flex": null,
            "flex_flow": null,
            "grid_area": null,
            "grid_auto_columns": null,
            "grid_auto_flow": null,
            "grid_auto_rows": null,
            "grid_column": null,
            "grid_gap": null,
            "grid_row": null,
            "grid_template_areas": null,
            "grid_template_columns": null,
            "grid_template_rows": null,
            "height": null,
            "justify_content": null,
            "justify_items": null,
            "left": null,
            "margin": null,
            "max_height": null,
            "max_width": null,
            "min_height": null,
            "min_width": null,
            "object_fit": null,
            "object_position": null,
            "order": null,
            "overflow": null,
            "overflow_x": null,
            "overflow_y": null,
            "padding": null,
            "right": null,
            "top": null,
            "visibility": null,
            "width": null
          }
        },
        "24f177f51e1a441986248c1f3e0b9553": {
          "model_module": "@jupyter-widgets/controls",
          "model_name": "ProgressStyleModel",
          "model_module_version": "1.5.0",
          "state": {
            "_model_module": "@jupyter-widgets/controls",
            "_model_module_version": "1.5.0",
            "_model_name": "ProgressStyleModel",
            "_view_count": null,
            "_view_module": "@jupyter-widgets/base",
            "_view_module_version": "1.2.0",
            "_view_name": "StyleView",
            "bar_color": null,
            "description_width": ""
          }
        },
        "2e3f18b7e0704a35ac882281c74804c0": {
          "model_module": "@jupyter-widgets/base",
          "model_name": "LayoutModel",
          "model_module_version": "1.2.0",
          "state": {
            "_model_module": "@jupyter-widgets/base",
            "_model_module_version": "1.2.0",
            "_model_name": "LayoutModel",
            "_view_count": null,
            "_view_module": "@jupyter-widgets/base",
            "_view_module_version": "1.2.0",
            "_view_name": "LayoutView",
            "align_content": null,
            "align_items": null,
            "align_self": null,
            "border": null,
            "bottom": null,
            "display": null,
            "flex": null,
            "flex_flow": null,
            "grid_area": null,
            "grid_auto_columns": null,
            "grid_auto_flow": null,
            "grid_auto_rows": null,
            "grid_column": null,
            "grid_gap": null,
            "grid_row": null,
            "grid_template_areas": null,
            "grid_template_columns": null,
            "grid_template_rows": null,
            "height": null,
            "justify_content": null,
            "justify_items": null,
            "left": null,
            "margin": null,
            "max_height": null,
            "max_width": null,
            "min_height": null,
            "min_width": null,
            "object_fit": null,
            "object_position": null,
            "order": null,
            "overflow": null,
            "overflow_x": null,
            "overflow_y": null,
            "padding": null,
            "right": null,
            "top": null,
            "visibility": null,
            "width": null
          }
        },
        "deb99074b19b428c889a65d538b752c7": {
          "model_module": "@jupyter-widgets/controls",
          "model_name": "DescriptionStyleModel",
          "model_module_version": "1.5.0",
          "state": {
            "_model_module": "@jupyter-widgets/controls",
            "_model_module_version": "1.5.0",
            "_model_name": "DescriptionStyleModel",
            "_view_count": null,
            "_view_module": "@jupyter-widgets/base",
            "_view_module_version": "1.2.0",
            "_view_name": "StyleView",
            "description_width": ""
          }
        },
        "67ea181c4f71454281318054474a8635": {
          "model_module": "@jupyter-widgets/controls",
          "model_name": "HBoxModel",
          "model_module_version": "1.5.0",
          "state": {
            "_dom_classes": [],
            "_model_module": "@jupyter-widgets/controls",
            "_model_module_version": "1.5.0",
            "_model_name": "HBoxModel",
            "_view_count": null,
            "_view_module": "@jupyter-widgets/controls",
            "_view_module_version": "1.5.0",
            "_view_name": "HBoxView",
            "box_style": "",
            "children": [
              "IPY_MODEL_e03ccb8fa4974d18882a8e912baaf797",
              "IPY_MODEL_f9c480f0520e4697ab47bac69e833ab6",
              "IPY_MODEL_11f1df1fcd22440786475c804f34f97c"
            ],
            "layout": "IPY_MODEL_e623f2e3da6243b7af7cae6001f778a4"
          }
        },
        "e03ccb8fa4974d18882a8e912baaf797": {
          "model_module": "@jupyter-widgets/controls",
          "model_name": "HTMLModel",
          "model_module_version": "1.5.0",
          "state": {
            "_dom_classes": [],
            "_model_module": "@jupyter-widgets/controls",
            "_model_module_version": "1.5.0",
            "_model_name": "HTMLModel",
            "_view_count": null,
            "_view_module": "@jupyter-widgets/controls",
            "_view_module_version": "1.5.0",
            "_view_name": "HTMLView",
            "description": "",
            "description_tooltip": null,
            "layout": "IPY_MODEL_b44c026add5a4aa1b867eccef0278261",
            "placeholder": "​",
            "style": "IPY_MODEL_26064027de9147e3abda8f4968ef74b1",
            "value": "tokenizer_config.json: 100%"
          }
        },
        "f9c480f0520e4697ab47bac69e833ab6": {
          "model_module": "@jupyter-widgets/controls",
          "model_name": "FloatProgressModel",
          "model_module_version": "1.5.0",
          "state": {
            "_dom_classes": [],
            "_model_module": "@jupyter-widgets/controls",
            "_model_module_version": "1.5.0",
            "_model_name": "FloatProgressModel",
            "_view_count": null,
            "_view_module": "@jupyter-widgets/controls",
            "_view_module_version": "1.5.0",
            "_view_name": "ProgressView",
            "bar_style": "success",
            "description": "",
            "description_tooltip": null,
            "layout": "IPY_MODEL_68f4c64b443c4019aa75e3a2ee3857ac",
            "max": 163,
            "min": 0,
            "orientation": "horizontal",
            "style": "IPY_MODEL_5f801a4e70b84b6287d73c62885946da",
            "value": 163
          }
        },
        "11f1df1fcd22440786475c804f34f97c": {
          "model_module": "@jupyter-widgets/controls",
          "model_name": "HTMLModel",
          "model_module_version": "1.5.0",
          "state": {
            "_dom_classes": [],
            "_model_module": "@jupyter-widgets/controls",
            "_model_module_version": "1.5.0",
            "_model_name": "HTMLModel",
            "_view_count": null,
            "_view_module": "@jupyter-widgets/controls",
            "_view_module_version": "1.5.0",
            "_view_name": "HTMLView",
            "description": "",
            "description_tooltip": null,
            "layout": "IPY_MODEL_011e7fe2509b4c099c263bf976b4b5cc",
            "placeholder": "​",
            "style": "IPY_MODEL_d95569816db04df4ac97cd3b83dc5631",
            "value": " 163/163 [00:00&lt;00:00, 11.0kB/s]"
          }
        },
        "e623f2e3da6243b7af7cae6001f778a4": {
          "model_module": "@jupyter-widgets/base",
          "model_name": "LayoutModel",
          "model_module_version": "1.2.0",
          "state": {
            "_model_module": "@jupyter-widgets/base",
            "_model_module_version": "1.2.0",
            "_model_name": "LayoutModel",
            "_view_count": null,
            "_view_module": "@jupyter-widgets/base",
            "_view_module_version": "1.2.0",
            "_view_name": "LayoutView",
            "align_content": null,
            "align_items": null,
            "align_self": null,
            "border": null,
            "bottom": null,
            "display": null,
            "flex": null,
            "flex_flow": null,
            "grid_area": null,
            "grid_auto_columns": null,
            "grid_auto_flow": null,
            "grid_auto_rows": null,
            "grid_column": null,
            "grid_gap": null,
            "grid_row": null,
            "grid_template_areas": null,
            "grid_template_columns": null,
            "grid_template_rows": null,
            "height": null,
            "justify_content": null,
            "justify_items": null,
            "left": null,
            "margin": null,
            "max_height": null,
            "max_width": null,
            "min_height": null,
            "min_width": null,
            "object_fit": null,
            "object_position": null,
            "order": null,
            "overflow": null,
            "overflow_x": null,
            "overflow_y": null,
            "padding": null,
            "right": null,
            "top": null,
            "visibility": null,
            "width": null
          }
        },
        "b44c026add5a4aa1b867eccef0278261": {
          "model_module": "@jupyter-widgets/base",
          "model_name": "LayoutModel",
          "model_module_version": "1.2.0",
          "state": {
            "_model_module": "@jupyter-widgets/base",
            "_model_module_version": "1.2.0",
            "_model_name": "LayoutModel",
            "_view_count": null,
            "_view_module": "@jupyter-widgets/base",
            "_view_module_version": "1.2.0",
            "_view_name": "LayoutView",
            "align_content": null,
            "align_items": null,
            "align_self": null,
            "border": null,
            "bottom": null,
            "display": null,
            "flex": null,
            "flex_flow": null,
            "grid_area": null,
            "grid_auto_columns": null,
            "grid_auto_flow": null,
            "grid_auto_rows": null,
            "grid_column": null,
            "grid_gap": null,
            "grid_row": null,
            "grid_template_areas": null,
            "grid_template_columns": null,
            "grid_template_rows": null,
            "height": null,
            "justify_content": null,
            "justify_items": null,
            "left": null,
            "margin": null,
            "max_height": null,
            "max_width": null,
            "min_height": null,
            "min_width": null,
            "object_fit": null,
            "object_position": null,
            "order": null,
            "overflow": null,
            "overflow_x": null,
            "overflow_y": null,
            "padding": null,
            "right": null,
            "top": null,
            "visibility": null,
            "width": null
          }
        },
        "26064027de9147e3abda8f4968ef74b1": {
          "model_module": "@jupyter-widgets/controls",
          "model_name": "DescriptionStyleModel",
          "model_module_version": "1.5.0",
          "state": {
            "_model_module": "@jupyter-widgets/controls",
            "_model_module_version": "1.5.0",
            "_model_name": "DescriptionStyleModel",
            "_view_count": null,
            "_view_module": "@jupyter-widgets/base",
            "_view_module_version": "1.2.0",
            "_view_name": "StyleView",
            "description_width": ""
          }
        },
        "68f4c64b443c4019aa75e3a2ee3857ac": {
          "model_module": "@jupyter-widgets/base",
          "model_name": "LayoutModel",
          "model_module_version": "1.2.0",
          "state": {
            "_model_module": "@jupyter-widgets/base",
            "_model_module_version": "1.2.0",
            "_model_name": "LayoutModel",
            "_view_count": null,
            "_view_module": "@jupyter-widgets/base",
            "_view_module_version": "1.2.0",
            "_view_name": "LayoutView",
            "align_content": null,
            "align_items": null,
            "align_self": null,
            "border": null,
            "bottom": null,
            "display": null,
            "flex": null,
            "flex_flow": null,
            "grid_area": null,
            "grid_auto_columns": null,
            "grid_auto_flow": null,
            "grid_auto_rows": null,
            "grid_column": null,
            "grid_gap": null,
            "grid_row": null,
            "grid_template_areas": null,
            "grid_template_columns": null,
            "grid_template_rows": null,
            "height": null,
            "justify_content": null,
            "justify_items": null,
            "left": null,
            "margin": null,
            "max_height": null,
            "max_width": null,
            "min_height": null,
            "min_width": null,
            "object_fit": null,
            "object_position": null,
            "order": null,
            "overflow": null,
            "overflow_x": null,
            "overflow_y": null,
            "padding": null,
            "right": null,
            "top": null,
            "visibility": null,
            "width": null
          }
        },
        "5f801a4e70b84b6287d73c62885946da": {
          "model_module": "@jupyter-widgets/controls",
          "model_name": "ProgressStyleModel",
          "model_module_version": "1.5.0",
          "state": {
            "_model_module": "@jupyter-widgets/controls",
            "_model_module_version": "1.5.0",
            "_model_name": "ProgressStyleModel",
            "_view_count": null,
            "_view_module": "@jupyter-widgets/base",
            "_view_module_version": "1.2.0",
            "_view_name": "StyleView",
            "bar_color": null,
            "description_width": ""
          }
        },
        "011e7fe2509b4c099c263bf976b4b5cc": {
          "model_module": "@jupyter-widgets/base",
          "model_name": "LayoutModel",
          "model_module_version": "1.2.0",
          "state": {
            "_model_module": "@jupyter-widgets/base",
            "_model_module_version": "1.2.0",
            "_model_name": "LayoutModel",
            "_view_count": null,
            "_view_module": "@jupyter-widgets/base",
            "_view_module_version": "1.2.0",
            "_view_name": "LayoutView",
            "align_content": null,
            "align_items": null,
            "align_self": null,
            "border": null,
            "bottom": null,
            "display": null,
            "flex": null,
            "flex_flow": null,
            "grid_area": null,
            "grid_auto_columns": null,
            "grid_auto_flow": null,
            "grid_auto_rows": null,
            "grid_column": null,
            "grid_gap": null,
            "grid_row": null,
            "grid_template_areas": null,
            "grid_template_columns": null,
            "grid_template_rows": null,
            "height": null,
            "justify_content": null,
            "justify_items": null,
            "left": null,
            "margin": null,
            "max_height": null,
            "max_width": null,
            "min_height": null,
            "min_width": null,
            "object_fit": null,
            "object_position": null,
            "order": null,
            "overflow": null,
            "overflow_x": null,
            "overflow_y": null,
            "padding": null,
            "right": null,
            "top": null,
            "visibility": null,
            "width": null
          }
        },
        "d95569816db04df4ac97cd3b83dc5631": {
          "model_module": "@jupyter-widgets/controls",
          "model_name": "DescriptionStyleModel",
          "model_module_version": "1.5.0",
          "state": {
            "_model_module": "@jupyter-widgets/controls",
            "_model_module_version": "1.5.0",
            "_model_name": "DescriptionStyleModel",
            "_view_count": null,
            "_view_module": "@jupyter-widgets/base",
            "_view_module_version": "1.2.0",
            "_view_name": "StyleView",
            "description_width": ""
          }
        },
        "b7710566ed7140f5af46b126f29325f6": {
          "model_module": "@jupyter-widgets/controls",
          "model_name": "HBoxModel",
          "model_module_version": "1.5.0",
          "state": {
            "_dom_classes": [],
            "_model_module": "@jupyter-widgets/controls",
            "_model_module_version": "1.5.0",
            "_model_name": "HBoxModel",
            "_view_count": null,
            "_view_module": "@jupyter-widgets/controls",
            "_view_module_version": "1.5.0",
            "_view_name": "HBoxView",
            "box_style": "",
            "children": [
              "IPY_MODEL_34d75ccb77d14c6faa0c5d9e899ef8be",
              "IPY_MODEL_802dad19ab3a45f68f7d5c5acbac5304",
              "IPY_MODEL_5b964c8191f049f38e63461257508692"
            ],
            "layout": "IPY_MODEL_ea2d153b8cf044679d8952ca76baa37a"
          }
        },
        "34d75ccb77d14c6faa0c5d9e899ef8be": {
          "model_module": "@jupyter-widgets/controls",
          "model_name": "HTMLModel",
          "model_module_version": "1.5.0",
          "state": {
            "_dom_classes": [],
            "_model_module": "@jupyter-widgets/controls",
            "_model_module_version": "1.5.0",
            "_model_name": "HTMLModel",
            "_view_count": null,
            "_view_module": "@jupyter-widgets/controls",
            "_view_module_version": "1.5.0",
            "_view_name": "HTMLView",
            "description": "",
            "description_tooltip": null,
            "layout": "IPY_MODEL_26183dd59d1c489a94bae0252601c4b3",
            "placeholder": "​",
            "style": "IPY_MODEL_d9622c1781ba4cd6bff4bc9bb5d52390",
            "value": "vocab.json: 100%"
          }
        },
        "802dad19ab3a45f68f7d5c5acbac5304": {
          "model_module": "@jupyter-widgets/controls",
          "model_name": "FloatProgressModel",
          "model_module_version": "1.5.0",
          "state": {
            "_dom_classes": [],
            "_model_module": "@jupyter-widgets/controls",
            "_model_module_version": "1.5.0",
            "_model_name": "FloatProgressModel",
            "_view_count": null,
            "_view_module": "@jupyter-widgets/controls",
            "_view_module_version": "1.5.0",
            "_view_name": "ProgressView",
            "bar_style": "success",
            "description": "",
            "description_tooltip": null,
            "layout": "IPY_MODEL_d067b1aba9c24e548ef6b132e79b7871",
            "max": 291,
            "min": 0,
            "orientation": "horizontal",
            "style": "IPY_MODEL_34b0389ca2bb4da08e85dfa2924b05ba",
            "value": 291
          }
        },
        "5b964c8191f049f38e63461257508692": {
          "model_module": "@jupyter-widgets/controls",
          "model_name": "HTMLModel",
          "model_module_version": "1.5.0",
          "state": {
            "_dom_classes": [],
            "_model_module": "@jupyter-widgets/controls",
            "_model_module_version": "1.5.0",
            "_model_name": "HTMLModel",
            "_view_count": null,
            "_view_module": "@jupyter-widgets/controls",
            "_view_module_version": "1.5.0",
            "_view_name": "HTMLView",
            "description": "",
            "description_tooltip": null,
            "layout": "IPY_MODEL_e4b3e05c0d934b57a73cdd47fd20dd1b",
            "placeholder": "​",
            "style": "IPY_MODEL_fc6bdc679a6f48a2b09f185d6a14d911",
            "value": " 291/291 [00:00&lt;00:00, 21.4kB/s]"
          }
        },
        "ea2d153b8cf044679d8952ca76baa37a": {
          "model_module": "@jupyter-widgets/base",
          "model_name": "LayoutModel",
          "model_module_version": "1.2.0",
          "state": {
            "_model_module": "@jupyter-widgets/base",
            "_model_module_version": "1.2.0",
            "_model_name": "LayoutModel",
            "_view_count": null,
            "_view_module": "@jupyter-widgets/base",
            "_view_module_version": "1.2.0",
            "_view_name": "LayoutView",
            "align_content": null,
            "align_items": null,
            "align_self": null,
            "border": null,
            "bottom": null,
            "display": null,
            "flex": null,
            "flex_flow": null,
            "grid_area": null,
            "grid_auto_columns": null,
            "grid_auto_flow": null,
            "grid_auto_rows": null,
            "grid_column": null,
            "grid_gap": null,
            "grid_row": null,
            "grid_template_areas": null,
            "grid_template_columns": null,
            "grid_template_rows": null,
            "height": null,
            "justify_content": null,
            "justify_items": null,
            "left": null,
            "margin": null,
            "max_height": null,
            "max_width": null,
            "min_height": null,
            "min_width": null,
            "object_fit": null,
            "object_position": null,
            "order": null,
            "overflow": null,
            "overflow_x": null,
            "overflow_y": null,
            "padding": null,
            "right": null,
            "top": null,
            "visibility": null,
            "width": null
          }
        },
        "26183dd59d1c489a94bae0252601c4b3": {
          "model_module": "@jupyter-widgets/base",
          "model_name": "LayoutModel",
          "model_module_version": "1.2.0",
          "state": {
            "_model_module": "@jupyter-widgets/base",
            "_model_module_version": "1.2.0",
            "_model_name": "LayoutModel",
            "_view_count": null,
            "_view_module": "@jupyter-widgets/base",
            "_view_module_version": "1.2.0",
            "_view_name": "LayoutView",
            "align_content": null,
            "align_items": null,
            "align_self": null,
            "border": null,
            "bottom": null,
            "display": null,
            "flex": null,
            "flex_flow": null,
            "grid_area": null,
            "grid_auto_columns": null,
            "grid_auto_flow": null,
            "grid_auto_rows": null,
            "grid_column": null,
            "grid_gap": null,
            "grid_row": null,
            "grid_template_areas": null,
            "grid_template_columns": null,
            "grid_template_rows": null,
            "height": null,
            "justify_content": null,
            "justify_items": null,
            "left": null,
            "margin": null,
            "max_height": null,
            "max_width": null,
            "min_height": null,
            "min_width": null,
            "object_fit": null,
            "object_position": null,
            "order": null,
            "overflow": null,
            "overflow_x": null,
            "overflow_y": null,
            "padding": null,
            "right": null,
            "top": null,
            "visibility": null,
            "width": null
          }
        },
        "d9622c1781ba4cd6bff4bc9bb5d52390": {
          "model_module": "@jupyter-widgets/controls",
          "model_name": "DescriptionStyleModel",
          "model_module_version": "1.5.0",
          "state": {
            "_model_module": "@jupyter-widgets/controls",
            "_model_module_version": "1.5.0",
            "_model_name": "DescriptionStyleModel",
            "_view_count": null,
            "_view_module": "@jupyter-widgets/base",
            "_view_module_version": "1.2.0",
            "_view_name": "StyleView",
            "description_width": ""
          }
        },
        "d067b1aba9c24e548ef6b132e79b7871": {
          "model_module": "@jupyter-widgets/base",
          "model_name": "LayoutModel",
          "model_module_version": "1.2.0",
          "state": {
            "_model_module": "@jupyter-widgets/base",
            "_model_module_version": "1.2.0",
            "_model_name": "LayoutModel",
            "_view_count": null,
            "_view_module": "@jupyter-widgets/base",
            "_view_module_version": "1.2.0",
            "_view_name": "LayoutView",
            "align_content": null,
            "align_items": null,
            "align_self": null,
            "border": null,
            "bottom": null,
            "display": null,
            "flex": null,
            "flex_flow": null,
            "grid_area": null,
            "grid_auto_columns": null,
            "grid_auto_flow": null,
            "grid_auto_rows": null,
            "grid_column": null,
            "grid_gap": null,
            "grid_row": null,
            "grid_template_areas": null,
            "grid_template_columns": null,
            "grid_template_rows": null,
            "height": null,
            "justify_content": null,
            "justify_items": null,
            "left": null,
            "margin": null,
            "max_height": null,
            "max_width": null,
            "min_height": null,
            "min_width": null,
            "object_fit": null,
            "object_position": null,
            "order": null,
            "overflow": null,
            "overflow_x": null,
            "overflow_y": null,
            "padding": null,
            "right": null,
            "top": null,
            "visibility": null,
            "width": null
          }
        },
        "34b0389ca2bb4da08e85dfa2924b05ba": {
          "model_module": "@jupyter-widgets/controls",
          "model_name": "ProgressStyleModel",
          "model_module_version": "1.5.0",
          "state": {
            "_model_module": "@jupyter-widgets/controls",
            "_model_module_version": "1.5.0",
            "_model_name": "ProgressStyleModel",
            "_view_count": null,
            "_view_module": "@jupyter-widgets/base",
            "_view_module_version": "1.2.0",
            "_view_name": "StyleView",
            "bar_color": null,
            "description_width": ""
          }
        },
        "e4b3e05c0d934b57a73cdd47fd20dd1b": {
          "model_module": "@jupyter-widgets/base",
          "model_name": "LayoutModel",
          "model_module_version": "1.2.0",
          "state": {
            "_model_module": "@jupyter-widgets/base",
            "_model_module_version": "1.2.0",
            "_model_name": "LayoutModel",
            "_view_count": null,
            "_view_module": "@jupyter-widgets/base",
            "_view_module_version": "1.2.0",
            "_view_name": "LayoutView",
            "align_content": null,
            "align_items": null,
            "align_self": null,
            "border": null,
            "bottom": null,
            "display": null,
            "flex": null,
            "flex_flow": null,
            "grid_area": null,
            "grid_auto_columns": null,
            "grid_auto_flow": null,
            "grid_auto_rows": null,
            "grid_column": null,
            "grid_gap": null,
            "grid_row": null,
            "grid_template_areas": null,
            "grid_template_columns": null,
            "grid_template_rows": null,
            "height": null,
            "justify_content": null,
            "justify_items": null,
            "left": null,
            "margin": null,
            "max_height": null,
            "max_width": null,
            "min_height": null,
            "min_width": null,
            "object_fit": null,
            "object_position": null,
            "order": null,
            "overflow": null,
            "overflow_x": null,
            "overflow_y": null,
            "padding": null,
            "right": null,
            "top": null,
            "visibility": null,
            "width": null
          }
        },
        "fc6bdc679a6f48a2b09f185d6a14d911": {
          "model_module": "@jupyter-widgets/controls",
          "model_name": "DescriptionStyleModel",
          "model_module_version": "1.5.0",
          "state": {
            "_model_module": "@jupyter-widgets/controls",
            "_model_module_version": "1.5.0",
            "_model_name": "DescriptionStyleModel",
            "_view_count": null,
            "_view_module": "@jupyter-widgets/base",
            "_view_module_version": "1.2.0",
            "_view_name": "StyleView",
            "description_width": ""
          }
        },
        "464a87d56f17446d96cd0c923b875fee": {
          "model_module": "@jupyter-widgets/controls",
          "model_name": "HBoxModel",
          "model_module_version": "1.5.0",
          "state": {
            "_dom_classes": [],
            "_model_module": "@jupyter-widgets/controls",
            "_model_module_version": "1.5.0",
            "_model_name": "HBoxModel",
            "_view_count": null,
            "_view_module": "@jupyter-widgets/controls",
            "_view_module_version": "1.5.0",
            "_view_name": "HBoxView",
            "box_style": "",
            "children": [
              "IPY_MODEL_a95e6f9058b641f59919f1f713d24be0",
              "IPY_MODEL_5d10b890f89049ab98bb29e96efd1fb2",
              "IPY_MODEL_1282a9b5bfcf464ea23db603d19748cc"
            ],
            "layout": "IPY_MODEL_a0f03e78e99e496ba628bbdfa9de4264"
          }
        },
        "a95e6f9058b641f59919f1f713d24be0": {
          "model_module": "@jupyter-widgets/controls",
          "model_name": "HTMLModel",
          "model_module_version": "1.5.0",
          "state": {
            "_dom_classes": [],
            "_model_module": "@jupyter-widgets/controls",
            "_model_module_version": "1.5.0",
            "_model_name": "HTMLModel",
            "_view_count": null,
            "_view_module": "@jupyter-widgets/controls",
            "_view_module_version": "1.5.0",
            "_view_name": "HTMLView",
            "description": "",
            "description_tooltip": null,
            "layout": "IPY_MODEL_1dad116203c44cb5a75c8d49c15dcfe4",
            "placeholder": "​",
            "style": "IPY_MODEL_75d374dae4904b4589b41f4017e45ac4",
            "value": "special_tokens_map.json: 100%"
          }
        },
        "5d10b890f89049ab98bb29e96efd1fb2": {
          "model_module": "@jupyter-widgets/controls",
          "model_name": "FloatProgressModel",
          "model_module_version": "1.5.0",
          "state": {
            "_dom_classes": [],
            "_model_module": "@jupyter-widgets/controls",
            "_model_module_version": "1.5.0",
            "_model_name": "FloatProgressModel",
            "_view_count": null,
            "_view_module": "@jupyter-widgets/controls",
            "_view_module_version": "1.5.0",
            "_view_name": "ProgressView",
            "bar_style": "success",
            "description": "",
            "description_tooltip": null,
            "layout": "IPY_MODEL_0a1e8fd99bcc4a3daf802a00e7a2aa11",
            "max": 85,
            "min": 0,
            "orientation": "horizontal",
            "style": "IPY_MODEL_588685a71f52419f99716958f51d9ff6",
            "value": 85
          }
        },
        "1282a9b5bfcf464ea23db603d19748cc": {
          "model_module": "@jupyter-widgets/controls",
          "model_name": "HTMLModel",
          "model_module_version": "1.5.0",
          "state": {
            "_dom_classes": [],
            "_model_module": "@jupyter-widgets/controls",
            "_model_module_version": "1.5.0",
            "_model_name": "HTMLModel",
            "_view_count": null,
            "_view_module": "@jupyter-widgets/controls",
            "_view_module_version": "1.5.0",
            "_view_name": "HTMLView",
            "description": "",
            "description_tooltip": null,
            "layout": "IPY_MODEL_0ba5bd7937e14d73bf1273f41daf22b2",
            "placeholder": "​",
            "style": "IPY_MODEL_d3aa65213bd948489ba345fdc34105ef",
            "value": " 85.0/85.0 [00:00&lt;00:00, 7.16kB/s]"
          }
        },
        "a0f03e78e99e496ba628bbdfa9de4264": {
          "model_module": "@jupyter-widgets/base",
          "model_name": "LayoutModel",
          "model_module_version": "1.2.0",
          "state": {
            "_model_module": "@jupyter-widgets/base",
            "_model_module_version": "1.2.0",
            "_model_name": "LayoutModel",
            "_view_count": null,
            "_view_module": "@jupyter-widgets/base",
            "_view_module_version": "1.2.0",
            "_view_name": "LayoutView",
            "align_content": null,
            "align_items": null,
            "align_self": null,
            "border": null,
            "bottom": null,
            "display": null,
            "flex": null,
            "flex_flow": null,
            "grid_area": null,
            "grid_auto_columns": null,
            "grid_auto_flow": null,
            "grid_auto_rows": null,
            "grid_column": null,
            "grid_gap": null,
            "grid_row": null,
            "grid_template_areas": null,
            "grid_template_columns": null,
            "grid_template_rows": null,
            "height": null,
            "justify_content": null,
            "justify_items": null,
            "left": null,
            "margin": null,
            "max_height": null,
            "max_width": null,
            "min_height": null,
            "min_width": null,
            "object_fit": null,
            "object_position": null,
            "order": null,
            "overflow": null,
            "overflow_x": null,
            "overflow_y": null,
            "padding": null,
            "right": null,
            "top": null,
            "visibility": null,
            "width": null
          }
        },
        "1dad116203c44cb5a75c8d49c15dcfe4": {
          "model_module": "@jupyter-widgets/base",
          "model_name": "LayoutModel",
          "model_module_version": "1.2.0",
          "state": {
            "_model_module": "@jupyter-widgets/base",
            "_model_module_version": "1.2.0",
            "_model_name": "LayoutModel",
            "_view_count": null,
            "_view_module": "@jupyter-widgets/base",
            "_view_module_version": "1.2.0",
            "_view_name": "LayoutView",
            "align_content": null,
            "align_items": null,
            "align_self": null,
            "border": null,
            "bottom": null,
            "display": null,
            "flex": null,
            "flex_flow": null,
            "grid_area": null,
            "grid_auto_columns": null,
            "grid_auto_flow": null,
            "grid_auto_rows": null,
            "grid_column": null,
            "grid_gap": null,
            "grid_row": null,
            "grid_template_areas": null,
            "grid_template_columns": null,
            "grid_template_rows": null,
            "height": null,
            "justify_content": null,
            "justify_items": null,
            "left": null,
            "margin": null,
            "max_height": null,
            "max_width": null,
            "min_height": null,
            "min_width": null,
            "object_fit": null,
            "object_position": null,
            "order": null,
            "overflow": null,
            "overflow_x": null,
            "overflow_y": null,
            "padding": null,
            "right": null,
            "top": null,
            "visibility": null,
            "width": null
          }
        },
        "75d374dae4904b4589b41f4017e45ac4": {
          "model_module": "@jupyter-widgets/controls",
          "model_name": "DescriptionStyleModel",
          "model_module_version": "1.5.0",
          "state": {
            "_model_module": "@jupyter-widgets/controls",
            "_model_module_version": "1.5.0",
            "_model_name": "DescriptionStyleModel",
            "_view_count": null,
            "_view_module": "@jupyter-widgets/base",
            "_view_module_version": "1.2.0",
            "_view_name": "StyleView",
            "description_width": ""
          }
        },
        "0a1e8fd99bcc4a3daf802a00e7a2aa11": {
          "model_module": "@jupyter-widgets/base",
          "model_name": "LayoutModel",
          "model_module_version": "1.2.0",
          "state": {
            "_model_module": "@jupyter-widgets/base",
            "_model_module_version": "1.2.0",
            "_model_name": "LayoutModel",
            "_view_count": null,
            "_view_module": "@jupyter-widgets/base",
            "_view_module_version": "1.2.0",
            "_view_name": "LayoutView",
            "align_content": null,
            "align_items": null,
            "align_self": null,
            "border": null,
            "bottom": null,
            "display": null,
            "flex": null,
            "flex_flow": null,
            "grid_area": null,
            "grid_auto_columns": null,
            "grid_auto_flow": null,
            "grid_auto_rows": null,
            "grid_column": null,
            "grid_gap": null,
            "grid_row": null,
            "grid_template_areas": null,
            "grid_template_columns": null,
            "grid_template_rows": null,
            "height": null,
            "justify_content": null,
            "justify_items": null,
            "left": null,
            "margin": null,
            "max_height": null,
            "max_width": null,
            "min_height": null,
            "min_width": null,
            "object_fit": null,
            "object_position": null,
            "order": null,
            "overflow": null,
            "overflow_x": null,
            "overflow_y": null,
            "padding": null,
            "right": null,
            "top": null,
            "visibility": null,
            "width": null
          }
        },
        "588685a71f52419f99716958f51d9ff6": {
          "model_module": "@jupyter-widgets/controls",
          "model_name": "ProgressStyleModel",
          "model_module_version": "1.5.0",
          "state": {
            "_model_module": "@jupyter-widgets/controls",
            "_model_module_version": "1.5.0",
            "_model_name": "ProgressStyleModel",
            "_view_count": null,
            "_view_module": "@jupyter-widgets/base",
            "_view_module_version": "1.2.0",
            "_view_name": "StyleView",
            "bar_color": null,
            "description_width": ""
          }
        },
        "0ba5bd7937e14d73bf1273f41daf22b2": {
          "model_module": "@jupyter-widgets/base",
          "model_name": "LayoutModel",
          "model_module_version": "1.2.0",
          "state": {
            "_model_module": "@jupyter-widgets/base",
            "_model_module_version": "1.2.0",
            "_model_name": "LayoutModel",
            "_view_count": null,
            "_view_module": "@jupyter-widgets/base",
            "_view_module_version": "1.2.0",
            "_view_name": "LayoutView",
            "align_content": null,
            "align_items": null,
            "align_self": null,
            "border": null,
            "bottom": null,
            "display": null,
            "flex": null,
            "flex_flow": null,
            "grid_area": null,
            "grid_auto_columns": null,
            "grid_auto_flow": null,
            "grid_auto_rows": null,
            "grid_column": null,
            "grid_gap": null,
            "grid_row": null,
            "grid_template_areas": null,
            "grid_template_columns": null,
            "grid_template_rows": null,
            "height": null,
            "justify_content": null,
            "justify_items": null,
            "left": null,
            "margin": null,
            "max_height": null,
            "max_width": null,
            "min_height": null,
            "min_width": null,
            "object_fit": null,
            "object_position": null,
            "order": null,
            "overflow": null,
            "overflow_x": null,
            "overflow_y": null,
            "padding": null,
            "right": null,
            "top": null,
            "visibility": null,
            "width": null
          }
        },
        "d3aa65213bd948489ba345fdc34105ef": {
          "model_module": "@jupyter-widgets/controls",
          "model_name": "DescriptionStyleModel",
          "model_module_version": "1.5.0",
          "state": {
            "_model_module": "@jupyter-widgets/controls",
            "_model_module_version": "1.5.0",
            "_model_name": "DescriptionStyleModel",
            "_view_count": null,
            "_view_module": "@jupyter-widgets/base",
            "_view_module_version": "1.2.0",
            "_view_name": "StyleView",
            "description_width": ""
          }
        },
        "2eda27e1187c45a087fdbd159b90094a": {
          "model_module": "@jupyter-widgets/controls",
          "model_name": "HBoxModel",
          "model_module_version": "1.5.0",
          "state": {
            "_dom_classes": [],
            "_model_module": "@jupyter-widgets/controls",
            "_model_module_version": "1.5.0",
            "_model_name": "HBoxModel",
            "_view_count": null,
            "_view_module": "@jupyter-widgets/controls",
            "_view_module_version": "1.5.0",
            "_view_name": "HBoxView",
            "box_style": "",
            "children": [
              "IPY_MODEL_73803e295eb74db683c09ef68fc695ff",
              "IPY_MODEL_19904137f0bc4f82a10b6ca2050887e7",
              "IPY_MODEL_5520bde1cb9e405c92bf094c5e536131"
            ],
            "layout": "IPY_MODEL_6b0ff5d5f0384c3997d948c578452036"
          }
        },
        "73803e295eb74db683c09ef68fc695ff": {
          "model_module": "@jupyter-widgets/controls",
          "model_name": "HTMLModel",
          "model_module_version": "1.5.0",
          "state": {
            "_dom_classes": [],
            "_model_module": "@jupyter-widgets/controls",
            "_model_module_version": "1.5.0",
            "_model_name": "HTMLModel",
            "_view_count": null,
            "_view_module": "@jupyter-widgets/controls",
            "_view_module_version": "1.5.0",
            "_view_name": "HTMLView",
            "description": "",
            "description_tooltip": null,
            "layout": "IPY_MODEL_386b2344c1164f299ca645cb0b2b9652",
            "placeholder": "​",
            "style": "IPY_MODEL_5ee8d7ff987844e6801365a6fa63e903",
            "value": "preprocessor_config.json: 100%"
          }
        },
        "19904137f0bc4f82a10b6ca2050887e7": {
          "model_module": "@jupyter-widgets/controls",
          "model_name": "FloatProgressModel",
          "model_module_version": "1.5.0",
          "state": {
            "_dom_classes": [],
            "_model_module": "@jupyter-widgets/controls",
            "_model_module_version": "1.5.0",
            "_model_name": "FloatProgressModel",
            "_view_count": null,
            "_view_module": "@jupyter-widgets/controls",
            "_view_module_version": "1.5.0",
            "_view_name": "ProgressView",
            "bar_style": "success",
            "description": "",
            "description_tooltip": null,
            "layout": "IPY_MODEL_1cc40a0659e844fa9bad5f7dfbe07cf5",
            "max": 159,
            "min": 0,
            "orientation": "horizontal",
            "style": "IPY_MODEL_368879b24e884a8f9e29f6edcc337f7d",
            "value": 159
          }
        },
        "5520bde1cb9e405c92bf094c5e536131": {
          "model_module": "@jupyter-widgets/controls",
          "model_name": "HTMLModel",
          "model_module_version": "1.5.0",
          "state": {
            "_dom_classes": [],
            "_model_module": "@jupyter-widgets/controls",
            "_model_module_version": "1.5.0",
            "_model_name": "HTMLModel",
            "_view_count": null,
            "_view_module": "@jupyter-widgets/controls",
            "_view_module_version": "1.5.0",
            "_view_name": "HTMLView",
            "description": "",
            "description_tooltip": null,
            "layout": "IPY_MODEL_2c6088c3980e4718b884ab3d98e96512",
            "placeholder": "​",
            "style": "IPY_MODEL_a262781cd30e4804a309132301e8bea4",
            "value": " 159/159 [00:00&lt;00:00, 11.8kB/s]"
          }
        },
        "6b0ff5d5f0384c3997d948c578452036": {
          "model_module": "@jupyter-widgets/base",
          "model_name": "LayoutModel",
          "model_module_version": "1.2.0",
          "state": {
            "_model_module": "@jupyter-widgets/base",
            "_model_module_version": "1.2.0",
            "_model_name": "LayoutModel",
            "_view_count": null,
            "_view_module": "@jupyter-widgets/base",
            "_view_module_version": "1.2.0",
            "_view_name": "LayoutView",
            "align_content": null,
            "align_items": null,
            "align_self": null,
            "border": null,
            "bottom": null,
            "display": null,
            "flex": null,
            "flex_flow": null,
            "grid_area": null,
            "grid_auto_columns": null,
            "grid_auto_flow": null,
            "grid_auto_rows": null,
            "grid_column": null,
            "grid_gap": null,
            "grid_row": null,
            "grid_template_areas": null,
            "grid_template_columns": null,
            "grid_template_rows": null,
            "height": null,
            "justify_content": null,
            "justify_items": null,
            "left": null,
            "margin": null,
            "max_height": null,
            "max_width": null,
            "min_height": null,
            "min_width": null,
            "object_fit": null,
            "object_position": null,
            "order": null,
            "overflow": null,
            "overflow_x": null,
            "overflow_y": null,
            "padding": null,
            "right": null,
            "top": null,
            "visibility": null,
            "width": null
          }
        },
        "386b2344c1164f299ca645cb0b2b9652": {
          "model_module": "@jupyter-widgets/base",
          "model_name": "LayoutModel",
          "model_module_version": "1.2.0",
          "state": {
            "_model_module": "@jupyter-widgets/base",
            "_model_module_version": "1.2.0",
            "_model_name": "LayoutModel",
            "_view_count": null,
            "_view_module": "@jupyter-widgets/base",
            "_view_module_version": "1.2.0",
            "_view_name": "LayoutView",
            "align_content": null,
            "align_items": null,
            "align_self": null,
            "border": null,
            "bottom": null,
            "display": null,
            "flex": null,
            "flex_flow": null,
            "grid_area": null,
            "grid_auto_columns": null,
            "grid_auto_flow": null,
            "grid_auto_rows": null,
            "grid_column": null,
            "grid_gap": null,
            "grid_row": null,
            "grid_template_areas": null,
            "grid_template_columns": null,
            "grid_template_rows": null,
            "height": null,
            "justify_content": null,
            "justify_items": null,
            "left": null,
            "margin": null,
            "max_height": null,
            "max_width": null,
            "min_height": null,
            "min_width": null,
            "object_fit": null,
            "object_position": null,
            "order": null,
            "overflow": null,
            "overflow_x": null,
            "overflow_y": null,
            "padding": null,
            "right": null,
            "top": null,
            "visibility": null,
            "width": null
          }
        },
        "5ee8d7ff987844e6801365a6fa63e903": {
          "model_module": "@jupyter-widgets/controls",
          "model_name": "DescriptionStyleModel",
          "model_module_version": "1.5.0",
          "state": {
            "_model_module": "@jupyter-widgets/controls",
            "_model_module_version": "1.5.0",
            "_model_name": "DescriptionStyleModel",
            "_view_count": null,
            "_view_module": "@jupyter-widgets/base",
            "_view_module_version": "1.2.0",
            "_view_name": "StyleView",
            "description_width": ""
          }
        },
        "1cc40a0659e844fa9bad5f7dfbe07cf5": {
          "model_module": "@jupyter-widgets/base",
          "model_name": "LayoutModel",
          "model_module_version": "1.2.0",
          "state": {
            "_model_module": "@jupyter-widgets/base",
            "_model_module_version": "1.2.0",
            "_model_name": "LayoutModel",
            "_view_count": null,
            "_view_module": "@jupyter-widgets/base",
            "_view_module_version": "1.2.0",
            "_view_name": "LayoutView",
            "align_content": null,
            "align_items": null,
            "align_self": null,
            "border": null,
            "bottom": null,
            "display": null,
            "flex": null,
            "flex_flow": null,
            "grid_area": null,
            "grid_auto_columns": null,
            "grid_auto_flow": null,
            "grid_auto_rows": null,
            "grid_column": null,
            "grid_gap": null,
            "grid_row": null,
            "grid_template_areas": null,
            "grid_template_columns": null,
            "grid_template_rows": null,
            "height": null,
            "justify_content": null,
            "justify_items": null,
            "left": null,
            "margin": null,
            "max_height": null,
            "max_width": null,
            "min_height": null,
            "min_width": null,
            "object_fit": null,
            "object_position": null,
            "order": null,
            "overflow": null,
            "overflow_x": null,
            "overflow_y": null,
            "padding": null,
            "right": null,
            "top": null,
            "visibility": null,
            "width": null
          }
        },
        "368879b24e884a8f9e29f6edcc337f7d": {
          "model_module": "@jupyter-widgets/controls",
          "model_name": "ProgressStyleModel",
          "model_module_version": "1.5.0",
          "state": {
            "_model_module": "@jupyter-widgets/controls",
            "_model_module_version": "1.5.0",
            "_model_name": "ProgressStyleModel",
            "_view_count": null,
            "_view_module": "@jupyter-widgets/base",
            "_view_module_version": "1.2.0",
            "_view_name": "StyleView",
            "bar_color": null,
            "description_width": ""
          }
        },
        "2c6088c3980e4718b884ab3d98e96512": {
          "model_module": "@jupyter-widgets/base",
          "model_name": "LayoutModel",
          "model_module_version": "1.2.0",
          "state": {
            "_model_module": "@jupyter-widgets/base",
            "_model_module_version": "1.2.0",
            "_model_name": "LayoutModel",
            "_view_count": null,
            "_view_module": "@jupyter-widgets/base",
            "_view_module_version": "1.2.0",
            "_view_name": "LayoutView",
            "align_content": null,
            "align_items": null,
            "align_self": null,
            "border": null,
            "bottom": null,
            "display": null,
            "flex": null,
            "flex_flow": null,
            "grid_area": null,
            "grid_auto_columns": null,
            "grid_auto_flow": null,
            "grid_auto_rows": null,
            "grid_column": null,
            "grid_gap": null,
            "grid_row": null,
            "grid_template_areas": null,
            "grid_template_columns": null,
            "grid_template_rows": null,
            "height": null,
            "justify_content": null,
            "justify_items": null,
            "left": null,
            "margin": null,
            "max_height": null,
            "max_width": null,
            "min_height": null,
            "min_width": null,
            "object_fit": null,
            "object_position": null,
            "order": null,
            "overflow": null,
            "overflow_x": null,
            "overflow_y": null,
            "padding": null,
            "right": null,
            "top": null,
            "visibility": null,
            "width": null
          }
        },
        "a262781cd30e4804a309132301e8bea4": {
          "model_module": "@jupyter-widgets/controls",
          "model_name": "DescriptionStyleModel",
          "model_module_version": "1.5.0",
          "state": {
            "_model_module": "@jupyter-widgets/controls",
            "_model_module_version": "1.5.0",
            "_model_name": "DescriptionStyleModel",
            "_view_count": null,
            "_view_module": "@jupyter-widgets/base",
            "_view_module_version": "1.2.0",
            "_view_name": "StyleView",
            "description_width": ""
          }
        }
      }
    }
  },
  "cells": [
    {
      "cell_type": "markdown",
      "source": [
        "# ASR\n"
      ],
      "metadata": {
        "id": "fNSukt5jrx3d"
      }
    },
    {
      "cell_type": "markdown",
      "source": [
        "Я скачала файлы через youtube-dl и перегнала аудио в wav через онлайн-конвертер\n",
        "\n",
        "`youtube-dl --write-auto-sub -x --audio-format “wav” “https://www.youtube.com/watch?v=TzHTIVXdse4”`"
      ],
      "metadata": {
        "id": "jpJnU-As0tx8"
      }
    },
    {
      "cell_type": "code",
      "execution_count": 1,
      "metadata": {
        "id": "3ely7TJrlnqK"
      },
      "outputs": [],
      "source": [
        "!pip install -q SpeechRecognition"
      ]
    },
    {
      "cell_type": "code",
      "source": [
        "!pip install -q git+https://github.com/openai/whisper.git soundfile"
      ],
      "metadata": {
        "colab": {
          "base_uri": "https://localhost:8080/"
        },
        "id": "1-IFEF_npggl",
        "outputId": "7d36b44d-782c-4f46-b63c-7791a583dab0"
      },
      "execution_count": 2,
      "outputs": [
        {
          "output_type": "stream",
          "name": "stdout",
          "text": [
            "  Installing build dependencies ... \u001b[?25l\u001b[?25hdone\n",
            "  Getting requirements to build wheel ... \u001b[?25l\u001b[?25hdone\n",
            "  Preparing metadata (pyproject.toml) ... \u001b[?25l\u001b[?25hdone\n"
          ]
        }
      ]
    },
    {
      "cell_type": "code",
      "source": [
        "from google.colab import drive\n",
        "drive.mount('/content/drive', force_remount=True)"
      ],
      "metadata": {
        "colab": {
          "base_uri": "https://localhost:8080/"
        },
        "id": "WfCniw9apBZt",
        "outputId": "59ef528d-1c97-463a-91ce-268fb6da1dc5"
      },
      "execution_count": 3,
      "outputs": [
        {
          "output_type": "stream",
          "name": "stdout",
          "text": [
            "Mounted at /content/drive\n"
          ]
        }
      ]
    },
    {
      "cell_type": "code",
      "source": [
        "!cd \"drive/MyDrive/Colab Notebooks/data\" && ls\n"
      ],
      "metadata": {
        "colab": {
          "base_uri": "https://localhost:8080/"
        },
        "id": "U4mxp4jux34d",
        "outputId": "3c1dd04a-f0f0-43b4-984e-716552221c7c"
      },
      "execution_count": 4,
      "outputs": [
        {
          "output_type": "stream",
          "name": "stdout",
          "text": [
            " ground_truth.txt  'Two US Banks Just Failed - What Happened, and What Now-WowVQ4rhbt8.en.vtt'\n",
            " recognized_text   'Two US Banks Just Failed - What Happened, and What Now-WowVQ4rhbt8.wav'\n"
          ]
        }
      ]
    },
    {
      "cell_type": "code",
      "source": [
        "import speech_recognition as sr"
      ],
      "metadata": {
        "id": "sHXNG2VqlsL7"
      },
      "execution_count": 5,
      "outputs": []
    },
    {
      "cell_type": "code",
      "source": [
        "DATA_PATH = 'drive/MyDrive/Colab Notebooks/data/'\n",
        "audio_fn = 'Two US Banks Just Failed - What Happened, and What Now-WowVQ4rhbt8.wav'\n",
        "subtt_fn = 'Two US Banks Just Failed - What Happened, and What Now-WowVQ4rhbt8.en.vtt'"
      ],
      "metadata": {
        "id": "9yte3So6LJXH"
      },
      "execution_count": 6,
      "outputs": []
    },
    {
      "cell_type": "code",
      "source": [
        "r = sr.Recognizer()\n",
        "with sr.AudioFile(DATA_PATH + audio_fn) as source:\n",
        "    audio = r.record(source)"
      ],
      "metadata": {
        "id": "UVduqOaEo4p9"
      },
      "execution_count": 7,
      "outputs": []
    },
    {
      "cell_type": "code",
      "source": [
        "results = dict()"
      ],
      "metadata": {
        "id": "6ZtDvYgH0KXF"
      },
      "execution_count": 23,
      "outputs": []
    },
    {
      "cell_type": "code",
      "source": [
        "# OpenAI Whisper library\n",
        "results['whisper'] = r.recognize_whisper(audio, language='english')\n",
        "results['whisper']"
      ],
      "metadata": {
        "colab": {
          "base_uri": "https://localhost:8080/",
          "height": 154
        },
        "id": "SpkkCoDwpDrx",
        "outputId": "71a8c142-37cc-407c-fa92-cfc5da86219a"
      },
      "execution_count": 24,
      "outputs": [
        {
          "output_type": "stream",
          "name": "stderr",
          "text": [
            "100%|███████████████████████████████████████| 139M/139M [01:19<00:00, 1.83MiB/s]\n"
          ]
        },
        {
          "output_type": "execute_result",
          "data": {
            "text/plain": [
              "\" Hey guys, it's Richard Washington, PlaneBaggle. It's been a crazy week in the world of finance. As you've probably heard by now, we've seen the collapse of not one, but two US banks over the span of just a couple of days this past week. It started on Wednesday with Silvergate Capital Corp, which is a crypto-friendly institution who stocked was already down 94% over the past six months. And now it's said it would begin its voluntary liquidation to try and meet its liabilities, which caused the stock to fall roughly another 50% since it's still a publicly traded position. And then Friday, after seeing its own stock dropped 60% on Wednesday alone, and another 66 plus percent in pre-market trading on Thursday before the stock trading was halted. Silicon Valley Bank, a commercial bank that served primarily startups and tech companies in California, was shut down by the FDIC, the Federal Deposit Insurance Corporation. And while the follow-up Silverbank is itself problematic, I can't emphasize enough how much bigger of a story SVB is because of just how much bigger of a bank it was. At the end of 2022, Silvergate had $6.3 billion in deposits compared to Silicon Valley Bank, which had over 170 billion or 27 times what Silvergate had and roughly 17 times the amount of customer funds that were misappropriated by FTX. In fact, SVB is the largest bank to collapse since the 2008 financial crisis, and is the second largest bank collapse in US history. So clearly a meaningful story. And what's really crazy here is that this isn't the result of some bad loans or a stupid investment in a cryptocurrency project that went sour. It all seems to be because of a bank run where customers withdraw more money than the bank has on hand since it uses customer deposits to lend out loans and can't immediately recall that money. Something that many consider to be an old problem and that we haven't really seen to this scale since again the 2008 financial crisis. Now as with any story that involves a collapse of a company, bank or otherwise, I do want to provide a more well-rounded perspective on the situation. There's a lot of people ringing the alarms and warning that this is the next big financial crisis. I think there's a lot of nuance to the situation that's worth highlighting. Things could have all very quickly and obviously this is a developing story, but you know it is very very incredibly early to make such a drastic call like that, but there are problems here that are worth addressing. And I want to focus primarily on SVB since it is a much larger bank. And Patrick Boyle recently put out a video explaining the Silvergate situation in more detail than I'll likely go in with this video. So I highly recommend that one Aliva link in the description if you want to learn more about that situation. But the two cover the same problem. The two stories are both kind of about the same thing to an extent. So you kind of may as well explain the Silvergate situation to explain what happened with SVB. So I'll be summarizing that situation and then focusing on what the ramifications of SVB is for the economy. So Silvergate, as you might have heard by now, is an otherwise conventional financial institution that helped provide services for crypto companies, cryptocurrency exchanges and services. A lot of their clients were cryptocurrency focused, which was a really good niche for them prior to 2022. But with the collapse of FTX and all the fraud that's surrounding the situation with Sandbank been freed, it's led to a run on cryptocurrency exchanges, which has translated it into a run on this financial institutions assets. And then the last three months of 2022 alone, Silvergate customers withdrew $8 billion of their crypto-length deposits, which represented roughly two-thirds of the cryptocurrency deposits. And because this bank didn't have the full $8 billion on hand, they had to sell $5.2 billion worth of their assets to meet this demand, which translated into a loss of $718 million. And to put how much money they lost into perspective, if you took all the money that the bank made in profits from 2016 up to the third quarter of 2022, it wouldn't even cover a quarter of the money lost in Q4 of 2022 alone. So yeah, they lost a lot of money. As for why this loss was so big, as you might know, banks hold a lot of their money in treasury bonds, including customer deposits, which is seen as a relatively safe and liquid investment. It doesn't earn you a crazy return, but there's confidence in the US government, and it's very easy to sell to get your money back out of these instruments. But the problem is that a lot of these bonds were acquired when interest rates were near rock bottom over the past decade, when their federal funds rate was near zero. And as you might be aware, fundamental relationship in bonds is that their price is inversely related to interest rates. So when interest rates were low, these bonds were purchased up here. And now that rates have had their very aggressive move higher, prices for these bonds on the market have decreased quite dramatically. Now bonds are still typically a safer investment because you could technically just wait for them to mature to get the face value of the bond back. So you wouldn't necessarily realize such a drastic loss. But the problem is that this bank with these large customer withdrawals had to meet these cash needs immediately with the fire sale of these bonds onto the open market at this depressed price at basically the worst time to do so. In fact, they even had to take bonds that had planned to hold until maturity that were classified as such on their balance sheet and had to sell those ones as well, which even widened the loss further. And all led to two weeks ago, the company announcing that it wasn't sure if it would be a going concern business. And this past Wednesday, the company announcing a voluntary liquidation of its assets that it would be closing down selling everything to try and meet all of its liabilities. Now, that's not the end of the drama here. The company is still being investigated by the Department of Justice for its connections with FTX and Sandbakeman Fried, who are allegedly big customers at the bank with over $1 billion of assets with them. And on the same day as this announced liquidation, we started to see the crumbling of Silicon Valley bank, which as mentioned, is a much bigger deal. Now, Silicon Valley bank is actually just one of four businesses owned by the holding company, which is SVB Financial, the publicly traded stock. Albeit, it is the largest segment by far. It makes up roughly 90% of their pre-tax earnings as of 2021. And as the name probably implies, they primarily service startups and technology firms, which have been under pressure in the current high rate environment and economic outlook, because in addition to all this bond stuff, rising rates do also make capital harder to access for venture capitalists and startups. So it's not a very ideal environment for someone who's trying to start a business. And all we talk numbers, but again, to put this bank size into perspective, according to their own filings, they bank nearly half of the US venture backed tech and life sciences companies in the United States. So they are a big player in the venture capital space. And really at a high level, the situation is very similar to what happened to Silvergate. It started again on the Wednesday. When SVB announced that because of large customer withdrawals, it had lost $1.8 billion related to the fire sale of assets to again meet those cash withdrawals, something that allegedly stemmed from the company facing a potential credit downgrade from Moody's, which also prompted the company to look into selling $2.25 billion in new shares and preferred shares to bolster its cash balance and restore confidence in its operations. But rather than calming the markets, this triggered a panic in the venture capital space and caused many venture capital companies to advise their clients, their startup clients to withdraw their money from the bank. And withdraw they did, because in a single day, the company saw $42 billion worth of withdrawals, roughly a quarter of their customer deposits gone in a single day. At this point, the company had failed to raise capital, had had it stock halted as it tried to find a buyer for its business, and on Friday, regulators closed down the bank, which leaves us with the question of what now? You might have heard before that banks do not go bankrupt, and that is true, and that applies in this situation. So where do we go from here? Well, a client in Silvergate's own liquidation plan, because again, they are still within control of their assets, unlike SVB. They plan to pay back everyone's deposits and meet all their obligations. Time will tell if that's possible, and if they have the means to do so. But being preemptive in doing this liquidation does certainly help with that, as opposed to waiting for the last second. And as mentioned with SVB, they've now been taken over by the FTIC as a receiver, meaning that they'll be selling all the assets to try and meet depositors and creditors liabilities, with the money being returned to depositors as a dividend, that we paid over time as the money is received. And there is also some protection here for FTIC insured deposits, but the FTIC indicating that the depositors should have access to their insured funds no later than Monday morning, which is a awesome turnaround. But as great as that sounds, the problem is that 95.5% of the bank's deposits are not covered by this FTIC insurance for a couple of reasons. The first is that some of these deposits are foreign deposits, which are not covered by FTIC. And the second reason is that the FTIC only covers commercial accounts up to $250,000, and given that these are Silicon Valley ventures, many of them have a lot more than $250,000 to run their corporation. So that means that the vast majority of deposits are not protected by this traditional safety net, and that basically means the FTIC will just have to do the best it can with the assets that the bank has to raise the money needed to cover these liabilities, which obviously does not give depositors who are stuck with the spank a whole lot of confidence. But obviously the biggest concern here is more so about the follow, right? The contagion effect here and how this will impact other parts of the US financial system. Last week saw a broad sell-off in the US financial sector, big banks like JP Morgan and Bank of America saw their stocks decline quite a bit. Another regional banks even saw their trading activity halted. We had first Republic Bank, Western Alliance Bank Corp, PAC West Bank Corp, and perhaps most notably, Signature Bank, which was another bank that catered primarily to cryptocurrency clients, with $114 billion in assets relative to Silver Gates, $11 billion. And with how difficult it is to really quantify the risk involved with the collapse of a financial institution within the largest economy in the world, it has left a lot of people wondering if this is the next financial crisis in the United States. But again, to that point, I do want to offer some points to consider, not to tell you that something's going to happen this way or that way, but just to provide better perspective. For one, an important thing to keep in mind here, well, this is obviously going to be detrimental to the cash flows of venture firms and just their financial situation as a whole. Depositors are likely to get some of their money back. With some believing that there is a chance depositors are made whole. Same can't be said for investors, probably very low on the priority list here. But based again on what we can see, there are assets that should help cover these deposits. As of the end of 2022, the company had $212 billion in assets, of which roughly 131.4 billion was in cash in government fixed income securities, which taking at face value would represent 75.9% of deposits, albeit there is likely to see some right down with the treasuries there. And the company is owed $73.6 billion in loans. So that's money that the company should eventually receive and that the FDIC should be able to eventually pay out two depositors and creditors and assuming that the loans are as high quality as the bank claimed before being taken over, that should help with the situation. Another point to keep in mind here is that again, compared to cryptocurrency collapses that we saw this past year, this situation has the full attention of regulators and even other financial institutions. It's in those parties best interest to maintain faith in the US financial system. So they're obviously incentivized to see this resolved in a sound way. Finally, the biggest point to keep in mind is that the scope of the situation is currently pretty limited. I understand that there is a risk of contagion and that's kind of the biggest fear people have is that this will lead to other types of bank runs. But this does seem to be a relatively idiosyncratic situation as has been highlighted by some other analysts. These are regional commercial banks meaning that they operate in a specific area. They aren't a nationwide operation and they cater to companies, not individual households or retail bankers. Some likely that would see a situation like this play out with one of the bigger banks like Bank of America or JP Morgan. JP Morgan has $2.3 trillion into deposits and has a much more diversified client base that again isn't as exposed to the specific industry risks that were faced by these other two banks given the collapse of cryptocurrencies and the harsh environments that venture capital is currently operating within. So with all this, there will likely be followed of some sort. We've already seen a sell off in the cryptocurrency space tied to Silvergate. The USDC stablecoin has since lost its peg to the US dollar as it's been revealed that it had exposure to the Silicon Valley bank. And for anyone in the space of venture backed tech companies, this is a devastating event. Some people might never recover from this. I get that with over a quarter million dollars of money deposited. These companies might not be getting at all that much sympathy. By the end of the day, these are firms that contribute to the American economy that have had their access to cash completely hampered because of what's transpired over just a couple of days. And there will likely be things that we can't predict today that will down the road because of what's happened this past week. But currently, again, my point here is to provide a more rounded perspective to kind of guide people away from the headlines about the next financial crisis because this is nowhere near the scale of the 2008 financial crisis and is not nearly the same fundamental issues at hand when it comes to leverage and derivatives. This is tied to a bank run and concentration risk primarily that also caused issues because of rising interest rates. It's not nearly the same level of state negligence. You could argue that concentration risk was poorly managed and building a bank off of all-tell cryptocurrency industry. Silvergate is maybe less defensible. But nonetheless, it's a very fundamentally different situation. And this isn't the FDIC's first rodeo. They actually just dealt with the bank collapse in 2020. I'll be at a much, much smaller situation there. But this is what they were made for. And the vast majority of retail bankers do have that FDIC insurance to cover the vast majority of the deposits they have, if not all of them, so long as they do bank with an FDIC insured institution. Still, in terms of how far reaching the impact here will eventually be, we will have to see how things play out. So that's a video. Another kind of light on frills piece to get it out quickly and talk about something that really has been very crazy and very fast in the financial markets. And trying to counteract some of the titles that you'll likely see around this situation and pull people back from the edge a little bit. So I hope you found the information useful. If you did, please make sure to like, subscribe, all that good stuff. It does help the channel tremendously. And let me know your thoughts on all this down below. Thanks for joining me today. And as always, be safe out there.\""
            ],
            "application/vnd.google.colaboratory.intrinsic+json": {
              "type": "string"
            }
          },
          "metadata": {},
          "execution_count": 24
        }
      ]
    },
    {
      "cell_type": "code",
      "source": [
        "with open(DATA_PATH + 'recognized_text/whisper.txt', 'w') as f:\n",
        "    f.write(results['whisper'])"
      ],
      "metadata": {
        "id": "RfvD-3j9SeHD"
      },
      "execution_count": 25,
      "outputs": []
    },
    {
      "cell_type": "code",
      "source": [
        "!pip install -q pocketsphinx"
      ],
      "metadata": {
        "colab": {
          "base_uri": "https://localhost:8080/"
        },
        "id": "lnZny1b-0nPq",
        "outputId": "dccf4054-3b18-419f-fb1a-26059f1cf273"
      },
      "execution_count": 15,
      "outputs": [
        {
          "output_type": "stream",
          "name": "stdout",
          "text": [
            "\u001b[2K     \u001b[90m━━━━━━━━━━━━━━━━━━━━━━━━━━━━━━━━━━━━━━━━\u001b[0m \u001b[32m29.2/29.2 MB\u001b[0m \u001b[31m50.0 MB/s\u001b[0m eta \u001b[36m0:00:00\u001b[0m\n",
            "\u001b[?25h"
          ]
        }
      ]
    },
    {
      "cell_type": "code",
      "source": [],
      "metadata": {
        "id": "qgZcD3AFL_B5"
      },
      "execution_count": 15,
      "outputs": []
    },
    {
      "cell_type": "code",
      "source": [
        "# Pocket Sphinx\n",
        "results['pocketsphinx'] = r.recognize_sphinx(audio)\n",
        "results['pocketsphinx']"
      ],
      "metadata": {
        "id": "zu3kg7aspIhQ"
      },
      "execution_count": null,
      "outputs": []
    },
    {
      "cell_type": "code",
      "source": [
        "with open(DATA_PATH + 'recognized_text/pocketsphinx.txt', 'w') as f:\n",
        "    f.write(results['pocketsphinx'])"
      ],
      "metadata": {
        "id": "3D43KM7uSp6Q"
      },
      "execution_count": 8,
      "outputs": []
    },
    {
      "cell_type": "markdown",
      "source": [
        "# HuggingFace transformers"
      ],
      "metadata": {
        "id": "nxwajV_Lrvhp"
      }
    },
    {
      "cell_type": "code",
      "source": [
        "!pip install -q transformers jiwer"
      ],
      "metadata": {
        "id": "OprA2lHQqRJY"
      },
      "execution_count": 9,
      "outputs": []
    },
    {
      "cell_type": "markdown",
      "source": [
        "Пример использования обученной модели для распознавания.\n",
        "\n",
        "Где взять модели? https://huggingface.co/models?pipeline_tag=automatic-speech-recognition"
      ],
      "metadata": {
        "id": "zRf46gwmsGVc"
      }
    },
    {
      "cell_type": "code",
      "source": [
        "from transformers import pipeline"
      ],
      "metadata": {
        "id": "7J5ZFO6WqzXE"
      },
      "execution_count": 4,
      "outputs": []
    },
    {
      "cell_type": "code",
      "source": [
        "transcriber = pipeline(\"automatic-speech-recognition\", \"facebook/wav2vec2-base-960h\")\n",
        "res = transcriber(DATA_PATH + audio_fn, chunk_length_s=10)"
      ],
      "metadata": {
        "colab": {
          "base_uri": "https://localhost:8080/",
          "height": 314,
          "referenced_widgets": [
            "c07e47238b51483489979a906bdd4b52",
            "999366c55e114ec48b19e95427fdecea",
            "3805fde5464048f3adbbdc13f28fb88f",
            "642e598e3c34487ba4c4b3a6bbfdcc38",
            "458482528c304a618f0de744d184be22",
            "b387449d6d4e48b792a9e3d68e841866",
            "53159d1df7754574b446b6bbc1b70d01",
            "53f38c8a6f414a0fbc43b985160acebf",
            "03360b13d14f49b0a3c9d8acbe92f9a7",
            "82fbf1f70c7a431f9491c774f201045a",
            "7d4be8de7d9e45bba38b3a43556e3f66",
            "de1643056d074b5e83c3ad1c37830a5c",
            "c90598ee1ab64934a51da11d02c81e94",
            "45058c66c29d49149df93a24469f2cad",
            "a6fdda3803c845ea8fe18746551038ed",
            "63794afd1fd4402e9ed217775b601fee",
            "3dececbd235944c79b1a721a49e5c112",
            "20e8bf6403994841b6fd45010930dbdd",
            "2355a585d2754be1882ecef2b2fd19c6",
            "24f177f51e1a441986248c1f3e0b9553",
            "2e3f18b7e0704a35ac882281c74804c0",
            "deb99074b19b428c889a65d538b752c7",
            "67ea181c4f71454281318054474a8635",
            "e03ccb8fa4974d18882a8e912baaf797",
            "f9c480f0520e4697ab47bac69e833ab6",
            "11f1df1fcd22440786475c804f34f97c",
            "e623f2e3da6243b7af7cae6001f778a4",
            "b44c026add5a4aa1b867eccef0278261",
            "26064027de9147e3abda8f4968ef74b1",
            "68f4c64b443c4019aa75e3a2ee3857ac",
            "5f801a4e70b84b6287d73c62885946da",
            "011e7fe2509b4c099c263bf976b4b5cc",
            "d95569816db04df4ac97cd3b83dc5631",
            "b7710566ed7140f5af46b126f29325f6",
            "34d75ccb77d14c6faa0c5d9e899ef8be",
            "802dad19ab3a45f68f7d5c5acbac5304",
            "5b964c8191f049f38e63461257508692",
            "ea2d153b8cf044679d8952ca76baa37a",
            "26183dd59d1c489a94bae0252601c4b3",
            "d9622c1781ba4cd6bff4bc9bb5d52390",
            "d067b1aba9c24e548ef6b132e79b7871",
            "34b0389ca2bb4da08e85dfa2924b05ba",
            "e4b3e05c0d934b57a73cdd47fd20dd1b",
            "fc6bdc679a6f48a2b09f185d6a14d911",
            "464a87d56f17446d96cd0c923b875fee",
            "a95e6f9058b641f59919f1f713d24be0",
            "5d10b890f89049ab98bb29e96efd1fb2",
            "1282a9b5bfcf464ea23db603d19748cc",
            "a0f03e78e99e496ba628bbdfa9de4264",
            "1dad116203c44cb5a75c8d49c15dcfe4",
            "75d374dae4904b4589b41f4017e45ac4",
            "0a1e8fd99bcc4a3daf802a00e7a2aa11",
            "588685a71f52419f99716958f51d9ff6",
            "0ba5bd7937e14d73bf1273f41daf22b2",
            "d3aa65213bd948489ba345fdc34105ef",
            "2eda27e1187c45a087fdbd159b90094a",
            "73803e295eb74db683c09ef68fc695ff",
            "19904137f0bc4f82a10b6ca2050887e7",
            "5520bde1cb9e405c92bf094c5e536131",
            "6b0ff5d5f0384c3997d948c578452036",
            "386b2344c1164f299ca645cb0b2b9652",
            "5ee8d7ff987844e6801365a6fa63e903",
            "1cc40a0659e844fa9bad5f7dfbe07cf5",
            "368879b24e884a8f9e29f6edcc337f7d",
            "2c6088c3980e4718b884ab3d98e96512",
            "a262781cd30e4804a309132301e8bea4"
          ]
        },
        "id": "vZE8lwsgq4A-",
        "outputId": "eca3e929-a22f-4f2d-c9fb-a793c5ed108a"
      },
      "execution_count": 5,
      "outputs": [
        {
          "output_type": "display_data",
          "data": {
            "text/plain": [
              "config.json:   0%|          | 0.00/1.60k [00:00<?, ?B/s]"
            ],
            "application/vnd.jupyter.widget-view+json": {
              "version_major": 2,
              "version_minor": 0,
              "model_id": "c07e47238b51483489979a906bdd4b52"
            }
          },
          "metadata": {}
        },
        {
          "output_type": "display_data",
          "data": {
            "text/plain": [
              "model.safetensors:   0%|          | 0.00/378M [00:00<?, ?B/s]"
            ],
            "application/vnd.jupyter.widget-view+json": {
              "version_major": 2,
              "version_minor": 0,
              "model_id": "de1643056d074b5e83c3ad1c37830a5c"
            }
          },
          "metadata": {}
        },
        {
          "output_type": "stream",
          "name": "stderr",
          "text": [
            "Some weights of the model checkpoint at facebook/wav2vec2-base-960h were not used when initializing Wav2Vec2ForCTC: ['wav2vec2.encoder.pos_conv_embed.conv.weight_g', 'wav2vec2.encoder.pos_conv_embed.conv.weight_v']\n",
            "- This IS expected if you are initializing Wav2Vec2ForCTC from the checkpoint of a model trained on another task or with another architecture (e.g. initializing a BertForSequenceClassification model from a BertForPreTraining model).\n",
            "- This IS NOT expected if you are initializing Wav2Vec2ForCTC from the checkpoint of a model that you expect to be exactly identical (initializing a BertForSequenceClassification model from a BertForSequenceClassification model).\n",
            "Some weights of Wav2Vec2ForCTC were not initialized from the model checkpoint at facebook/wav2vec2-base-960h and are newly initialized: ['wav2vec2.masked_spec_embed', 'wav2vec2.encoder.pos_conv_embed.conv.parametrizations.weight.original1', 'wav2vec2.encoder.pos_conv_embed.conv.parametrizations.weight.original0']\n",
            "You should probably TRAIN this model on a down-stream task to be able to use it for predictions and inference.\n"
          ]
        },
        {
          "output_type": "display_data",
          "data": {
            "text/plain": [
              "tokenizer_config.json:   0%|          | 0.00/163 [00:00<?, ?B/s]"
            ],
            "application/vnd.jupyter.widget-view+json": {
              "version_major": 2,
              "version_minor": 0,
              "model_id": "67ea181c4f71454281318054474a8635"
            }
          },
          "metadata": {}
        },
        {
          "output_type": "display_data",
          "data": {
            "text/plain": [
              "vocab.json:   0%|          | 0.00/291 [00:00<?, ?B/s]"
            ],
            "application/vnd.jupyter.widget-view+json": {
              "version_major": 2,
              "version_minor": 0,
              "model_id": "b7710566ed7140f5af46b126f29325f6"
            }
          },
          "metadata": {}
        },
        {
          "output_type": "display_data",
          "data": {
            "text/plain": [
              "special_tokens_map.json:   0%|          | 0.00/85.0 [00:00<?, ?B/s]"
            ],
            "application/vnd.jupyter.widget-view+json": {
              "version_major": 2,
              "version_minor": 0,
              "model_id": "464a87d56f17446d96cd0c923b875fee"
            }
          },
          "metadata": {}
        },
        {
          "output_type": "display_data",
          "data": {
            "text/plain": [
              "preprocessor_config.json:   0%|          | 0.00/159 [00:00<?, ?B/s]"
            ],
            "application/vnd.jupyter.widget-view+json": {
              "version_major": 2,
              "version_minor": 0,
              "model_id": "2eda27e1187c45a087fdbd159b90094a"
            }
          },
          "metadata": {}
        }
      ]
    },
    {
      "cell_type": "code",
      "source": [
        "with open(DATA_PATH + 'recognized_text/facebook.txt', 'w') as f:\n",
        "    f.write(res['text'].lower())"
      ],
      "metadata": {
        "id": "MQLSluIyZ4Sf"
      },
      "execution_count": 14,
      "outputs": []
    },
    {
      "cell_type": "markdown",
      "source": [
        "## WER\n",
        "\n",
        "Для эталона я скачала автоматические субтитры с ютуба и отредактировала (пришлось поменять совсем чуть-чуть)"
      ],
      "metadata": {
        "id": "YUEiVKwWzm19"
      }
    },
    {
      "cell_type": "code",
      "source": [
        "from jiwer import wer\n",
        "\n",
        "reference = \"hello world\"\n",
        "hypothesis = \"hello a duck\"\n",
        "\n",
        "error = wer(reference, hypothesis)"
      ],
      "metadata": {
        "id": "B2JsWLEpzyua"
      },
      "execution_count": 10,
      "outputs": []
    },
    {
      "cell_type": "code",
      "source": [
        "results = dict()"
      ],
      "metadata": {
        "id": "FxckHcwKbTGx"
      },
      "execution_count": 12,
      "outputs": []
    },
    {
      "cell_type": "code",
      "source": [
        "import os\n",
        "import re\n",
        "\n",
        "with open(DATA_PATH + 'ground_truth.txt', 'r') as f:\n",
        "    ground_truth = f.read()\n",
        "\n",
        "with open(DATA_PATH + subtt_fn, 'r') as f:\n",
        "    yt = f.read()\n",
        "\n",
        "results['youtube'] = yt.split('\\n')[6]\n",
        "\n",
        "for fn in os.listdir(DATA_PATH + 'recognized_text/'):\n",
        "    with open(DATA_PATH + 'recognized_text/' + fn) as f:\n",
        "        content = f.read().lower() # preprocess text\n",
        "        content = re.sub('[^\\w\\s]', '', content)\n",
        "        results[fn.split('.')[0]] = content\n",
        "\n",
        "# compare to edited youtube subtitle, youtube wins\n",
        "for asr in results:\n",
        "    print(asr, wer(ground_truth, results[asr]), sep='\\t')"
      ],
      "metadata": {
        "colab": {
          "base_uri": "https://localhost:8080/"
        },
        "id": "OlJPA3BWzzDp",
        "outputId": "0714c93f-3ecd-41ec-ffef-db0cd12072e3"
      },
      "execution_count": 16,
      "outputs": [
        {
          "output_type": "stream",
          "name": "stdout",
          "text": [
            "youtube\t0.00511770726714432\n",
            "pocketsphinx\t0.4278403275332651\n",
            "facebook\t0.24872057318321392\n",
            "whisper\t0.11941316956670078\n"
          ]
        }
      ]
    },
    {
      "cell_type": "code",
      "source": [],
      "metadata": {
        "id": "_6mRoxI1z73U"
      },
      "execution_count": null,
      "outputs": []
    }
  ]
}